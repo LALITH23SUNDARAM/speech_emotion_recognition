{
 "cells": [
  {
   "cell_type": "code",
   "execution_count": 2,
   "id": "0cf7c11b",
   "metadata": {},
   "outputs": [],
   "source": [
    "# IMPORT REQUIRE DEPENDENCIES\n",
    "# for algeberic function and framework\n",
    "import numpy as np\n",
    "import pandas as pd\n",
    "\n",
    "# for visualization\n",
    "import matplotlib.pyplot as plt\n",
    "import seaborn as sns\n",
    "\n",
    "# for model selection\n",
    "from sklearn.model_selection import train_test_split\n",
    "from tensorflow.keras.utils import to_categorical\n",
    "from sklearn.preprocessing import LabelEncoder\n",
    "from sklearn.preprocessing import StandardScaler\n",
    "\n",
    "# for model building\n",
    "import keras\n",
    "import tensorflow as tf\n",
    "from keras.models import Sequential \n",
    "from keras.layers import Dense, Activation, Dropout\n",
    "from keras.layers import Conv1D, MaxPooling1D, AveragePooling1D\n",
    "from keras.layers import Input, Flatten, Dropout, Activation,BatchNormalization, Dense\n",
    "\n",
    "# for hyperparametre tuning\n",
    "from sklearn.model_selection import KFold, StratifiedKFold\n",
    "from sklearn.model_selection import cross_val_score\n",
    "\n",
    "# for model evaluation\n",
    "from sklearn.metrics import confusion_matrix\n",
    "from sklearn.metrics import f1_score"
   ]
  },
  {
   "cell_type": "code",
   "execution_count": 6,
   "id": "16b0905d",
   "metadata": {},
   "outputs": [],
   "source": [
    "import keras_tuner"
   ]
  },
  {
   "cell_type": "markdown",
   "id": "2081ef14",
   "metadata": {},
   "source": [
    "##### LOADING PRE-PROCESSED DATASET:"
   ]
  },
  {
   "cell_type": "code",
   "execution_count": 11,
   "id": "9cea8132",
   "metadata": {},
   "outputs": [
    {
     "data": {
      "text/html": [
       "<div>\n",
       "<style scoped>\n",
       "    .dataframe tbody tr th:only-of-type {\n",
       "        vertical-align: middle;\n",
       "    }\n",
       "\n",
       "    .dataframe tbody tr th {\n",
       "        vertical-align: top;\n",
       "    }\n",
       "\n",
       "    .dataframe thead th {\n",
       "        text-align: right;\n",
       "    }\n",
       "</style>\n",
       "<table border=\"1\" class=\"dataframe\">\n",
       "  <thead>\n",
       "    <tr style=\"text-align: right;\">\n",
       "      <th></th>\n",
       "      <th>Label</th>\n",
       "      <th>mfcc_0</th>\n",
       "      <th>mfcc_1</th>\n",
       "      <th>mfcc_2</th>\n",
       "      <th>mfcc_3</th>\n",
       "      <th>mfcc_4</th>\n",
       "      <th>mfcc_5</th>\n",
       "      <th>mfcc_6</th>\n",
       "      <th>mfcc_7</th>\n",
       "      <th>mfcc_8</th>\n",
       "      <th>...</th>\n",
       "      <th>chroma_9</th>\n",
       "      <th>chroma_10</th>\n",
       "      <th>chroma_11</th>\n",
       "      <th>spectral_contrast_0</th>\n",
       "      <th>spectral_contrast_1</th>\n",
       "      <th>spectral_contrast_2</th>\n",
       "      <th>spectral_contrast_3</th>\n",
       "      <th>spectral_contrast_4</th>\n",
       "      <th>spectral_contrast_5</th>\n",
       "      <th>spectral_contrast_6</th>\n",
       "    </tr>\n",
       "  </thead>\n",
       "  <tbody>\n",
       "    <tr>\n",
       "      <th>0</th>\n",
       "      <td>Men_neutral</td>\n",
       "      <td>-697.98420</td>\n",
       "      <td>55.228490</td>\n",
       "      <td>0.323863</td>\n",
       "      <td>12.775377</td>\n",
       "      <td>7.396147</td>\n",
       "      <td>0.866224</td>\n",
       "      <td>-3.550276</td>\n",
       "      <td>-2.828331</td>\n",
       "      <td>-11.305532</td>\n",
       "      <td>...</td>\n",
       "      <td>0.746300</td>\n",
       "      <td>0.744283</td>\n",
       "      <td>0.722983</td>\n",
       "      <td>19.170998</td>\n",
       "      <td>11.228536</td>\n",
       "      <td>14.938287</td>\n",
       "      <td>14.187339</td>\n",
       "      <td>14.899156</td>\n",
       "      <td>16.857357</td>\n",
       "      <td>29.403947</td>\n",
       "    </tr>\n",
       "    <tr>\n",
       "      <th>1</th>\n",
       "      <td>Men_neutral</td>\n",
       "      <td>-693.06976</td>\n",
       "      <td>55.734570</td>\n",
       "      <td>-1.919739</td>\n",
       "      <td>16.408995</td>\n",
       "      <td>8.449355</td>\n",
       "      <td>0.220736</td>\n",
       "      <td>-1.738342</td>\n",
       "      <td>-4.931291</td>\n",
       "      <td>-11.981821</td>\n",
       "      <td>...</td>\n",
       "      <td>0.741526</td>\n",
       "      <td>0.739967</td>\n",
       "      <td>0.722161</td>\n",
       "      <td>19.703677</td>\n",
       "      <td>12.061533</td>\n",
       "      <td>15.659183</td>\n",
       "      <td>14.883159</td>\n",
       "      <td>15.174847</td>\n",
       "      <td>16.912811</td>\n",
       "      <td>28.869441</td>\n",
       "    </tr>\n",
       "    <tr>\n",
       "      <th>2</th>\n",
       "      <td>Men_neutral</td>\n",
       "      <td>-691.77014</td>\n",
       "      <td>58.350647</td>\n",
       "      <td>-0.165160</td>\n",
       "      <td>13.952125</td>\n",
       "      <td>5.053323</td>\n",
       "      <td>1.489326</td>\n",
       "      <td>-2.397429</td>\n",
       "      <td>-5.059065</td>\n",
       "      <td>-10.638003</td>\n",
       "      <td>...</td>\n",
       "      <td>0.754845</td>\n",
       "      <td>0.704650</td>\n",
       "      <td>0.713902</td>\n",
       "      <td>18.818881</td>\n",
       "      <td>12.208414</td>\n",
       "      <td>14.876291</td>\n",
       "      <td>14.282521</td>\n",
       "      <td>15.448914</td>\n",
       "      <td>16.767068</td>\n",
       "      <td>29.213471</td>\n",
       "    </tr>\n",
       "    <tr>\n",
       "      <th>3</th>\n",
       "      <td>Men_neutral</td>\n",
       "      <td>-685.23790</td>\n",
       "      <td>56.236694</td>\n",
       "      <td>2.453112</td>\n",
       "      <td>13.566656</td>\n",
       "      <td>6.701949</td>\n",
       "      <td>3.341493</td>\n",
       "      <td>-1.895052</td>\n",
       "      <td>-6.673817</td>\n",
       "      <td>-10.671633</td>\n",
       "      <td>...</td>\n",
       "      <td>0.708235</td>\n",
       "      <td>0.719849</td>\n",
       "      <td>0.735221</td>\n",
       "      <td>20.481934</td>\n",
       "      <td>11.763805</td>\n",
       "      <td>15.675734</td>\n",
       "      <td>15.455351</td>\n",
       "      <td>15.378251</td>\n",
       "      <td>16.154742</td>\n",
       "      <td>28.362977</td>\n",
       "    </tr>\n",
       "    <tr>\n",
       "      <th>4</th>\n",
       "      <td>Men_calm</td>\n",
       "      <td>-727.31793</td>\n",
       "      <td>62.764400</td>\n",
       "      <td>2.751275</td>\n",
       "      <td>15.473256</td>\n",
       "      <td>7.763115</td>\n",
       "      <td>2.330714</td>\n",
       "      <td>-3.641682</td>\n",
       "      <td>-3.367344</td>\n",
       "      <td>-10.113077</td>\n",
       "      <td>...</td>\n",
       "      <td>0.737612</td>\n",
       "      <td>0.769464</td>\n",
       "      <td>0.702859</td>\n",
       "      <td>18.478177</td>\n",
       "      <td>11.246410</td>\n",
       "      <td>15.137288</td>\n",
       "      <td>14.289477</td>\n",
       "      <td>15.609332</td>\n",
       "      <td>16.297521</td>\n",
       "      <td>28.978391</td>\n",
       "    </tr>\n",
       "  </tbody>\n",
       "</table>\n",
       "<p>5 rows × 33 columns</p>\n",
       "</div>"
      ],
      "text/plain": [
       "         Label     mfcc_0     mfcc_1    mfcc_2     mfcc_3    mfcc_4    mfcc_5  \\\n",
       "0  Men_neutral -697.98420  55.228490  0.323863  12.775377  7.396147  0.866224   \n",
       "1  Men_neutral -693.06976  55.734570 -1.919739  16.408995  8.449355  0.220736   \n",
       "2  Men_neutral -691.77014  58.350647 -0.165160  13.952125  5.053323  1.489326   \n",
       "3  Men_neutral -685.23790  56.236694  2.453112  13.566656  6.701949  3.341493   \n",
       "4     Men_calm -727.31793  62.764400  2.751275  15.473256  7.763115  2.330714   \n",
       "\n",
       "     mfcc_6    mfcc_7     mfcc_8  ...  chroma_9  chroma_10  chroma_11  \\\n",
       "0 -3.550276 -2.828331 -11.305532  ...  0.746300   0.744283   0.722983   \n",
       "1 -1.738342 -4.931291 -11.981821  ...  0.741526   0.739967   0.722161   \n",
       "2 -2.397429 -5.059065 -10.638003  ...  0.754845   0.704650   0.713902   \n",
       "3 -1.895052 -6.673817 -10.671633  ...  0.708235   0.719849   0.735221   \n",
       "4 -3.641682 -3.367344 -10.113077  ...  0.737612   0.769464   0.702859   \n",
       "\n",
       "   spectral_contrast_0  spectral_contrast_1  spectral_contrast_2  \\\n",
       "0            19.170998            11.228536            14.938287   \n",
       "1            19.703677            12.061533            15.659183   \n",
       "2            18.818881            12.208414            14.876291   \n",
       "3            20.481934            11.763805            15.675734   \n",
       "4            18.478177            11.246410            15.137288   \n",
       "\n",
       "   spectral_contrast_3  spectral_contrast_4  spectral_contrast_5  \\\n",
       "0            14.187339            14.899156            16.857357   \n",
       "1            14.883159            15.174847            16.912811   \n",
       "2            14.282521            15.448914            16.767068   \n",
       "3            15.455351            15.378251            16.154742   \n",
       "4            14.289477            15.609332            16.297521   \n",
       "\n",
       "   spectral_contrast_6  \n",
       "0            29.403947  \n",
       "1            28.869441  \n",
       "2            29.213471  \n",
       "3            28.362977  \n",
       "4            28.978391  \n",
       "\n",
       "[5 rows x 33 columns]"
      ]
     },
     "execution_count": 11,
     "metadata": {},
     "output_type": "execute_result"
    }
   ],
   "source": [
    "Audio_df = pd.read_csv('features/AUDIO_DF.csv')\n",
    "Audio_df.drop(['Unnamed: 0','Speaker','Emotion'],axis=1,inplace=True)\n",
    "Audio_df.head()"
   ]
  },
  {
   "cell_type": "code",
   "execution_count": 12,
   "id": "1973f5f3",
   "metadata": {},
   "outputs": [
    {
     "name": "stdout",
     "output_type": "stream",
     "text": [
      "<class 'pandas.core.frame.DataFrame'>\n",
      "RangeIndex: 9938 entries, 0 to 9937\n",
      "Data columns (total 33 columns):\n",
      " #   Column               Non-Null Count  Dtype  \n",
      "---  ------               --------------  -----  \n",
      " 0   Label                9938 non-null   object \n",
      " 1   mfcc_0               9938 non-null   float64\n",
      " 2   mfcc_1               9938 non-null   float64\n",
      " 3   mfcc_2               9938 non-null   float64\n",
      " 4   mfcc_3               9938 non-null   float64\n",
      " 5   mfcc_4               9938 non-null   float64\n",
      " 6   mfcc_5               9938 non-null   float64\n",
      " 7   mfcc_6               9938 non-null   float64\n",
      " 8   mfcc_7               9938 non-null   float64\n",
      " 9   mfcc_8               9938 non-null   float64\n",
      " 10  mfcc_9               9938 non-null   float64\n",
      " 11  mfcc_10              9938 non-null   float64\n",
      " 12  mfcc_11              9938 non-null   float64\n",
      " 13  mfcc_12              9938 non-null   float64\n",
      " 14  chroma_0             9938 non-null   float64\n",
      " 15  chroma_1             9938 non-null   float64\n",
      " 16  chroma_2             9938 non-null   float64\n",
      " 17  chroma_3             9938 non-null   float64\n",
      " 18  chroma_4             9938 non-null   float64\n",
      " 19  chroma_5             9938 non-null   float64\n",
      " 20  chroma_6             9938 non-null   float64\n",
      " 21  chroma_7             9938 non-null   float64\n",
      " 22  chroma_8             9938 non-null   float64\n",
      " 23  chroma_9             9938 non-null   float64\n",
      " 24  chroma_10            9938 non-null   float64\n",
      " 25  chroma_11            9938 non-null   float64\n",
      " 26  spectral_contrast_0  9938 non-null   float64\n",
      " 27  spectral_contrast_1  9938 non-null   float64\n",
      " 28  spectral_contrast_2  9938 non-null   float64\n",
      " 29  spectral_contrast_3  9938 non-null   float64\n",
      " 30  spectral_contrast_4  9938 non-null   float64\n",
      " 31  spectral_contrast_5  9938 non-null   float64\n",
      " 32  spectral_contrast_6  9938 non-null   float64\n",
      "dtypes: float64(32), object(1)\n",
      "memory usage: 2.5+ MB\n"
     ]
    }
   ],
   "source": [
    "Audio_df.info()"
   ]
  },
  {
   "cell_type": "markdown",
   "id": "70d96c8d",
   "metadata": {},
   "source": [
    "##### TRAIN_VALID_TEST SPLIT"
   ]
  },
  {
   "cell_type": "code",
   "execution_count": 13,
   "id": "d60ea0bd",
   "metadata": {},
   "outputs": [],
   "source": [
    "Dependent_variable = 'Label'\n",
    "\n",
    "Independent_variables = set(Audio_df.columns.to_list()) - {Dependent_variable}"
   ]
  },
  {
   "cell_type": "code",
   "execution_count": 25,
   "id": "62677cd8",
   "metadata": {},
   "outputs": [],
   "source": [
    "# train_test_split\n",
    "X_train, X_test, y_train, y_test = train_test_split(Audio_df[Independent_variables], Audio_df[Dependent_variable],\n",
    "                                                    test_size=0.1, random_state=143)\n",
    "\n",
    "# train_valid_split\n",
    "X_train, X_val, y_train, y_val = train_test_split(X_train, y_train, test_size=0.20, random_state=42)"
   ]
  },
  {
   "cell_type": "markdown",
   "id": "98189e2d",
   "metadata": {},
   "source": [
    "##### NORMALIZING DATAPOINTS:"
   ]
  },
  {
   "cell_type": "code",
   "execution_count": 17,
   "id": "848cffcc",
   "metadata": {},
   "outputs": [],
   "source": [
    "normalizer = StandardScaler()"
   ]
  },
  {
   "cell_type": "code",
   "execution_count": 26,
   "id": "7fc52867",
   "metadata": {},
   "outputs": [],
   "source": [
    "# normalizing train data points\n",
    "X_train = normalizer.fit_transform(X_train.values) \n",
    "\n",
    "# normalizing valid data points\n",
    "X_val = normalizer.transform(X_val.values)\n",
    "\n",
    "# normalizing test data points\n",
    "X_test = normalizer.transform(X_test.values)"
   ]
  },
  {
   "cell_type": "markdown",
   "id": "7ddb9fc6",
   "metadata": {},
   "source": [
    "##### ONE HOT ENCODING TARGET VARIABLE:"
   ]
  },
  {
   "cell_type": "code",
   "execution_count": 27,
   "id": "11ab4df2",
   "metadata": {},
   "outputs": [],
   "source": [
    "# one hot encode the target \n",
    "lb = LabelEncoder()\n",
    "\n",
    "# train set target encoding\n",
    "y_train = to_categorical(lb.fit_transform(y_train))\n",
    "\n",
    "# Devset target encoding\n",
    "y_val = to_categorical(lb.fit_transform(y_val))\n",
    "\n",
    "# test target encoding\n",
    "y_test = to_categorical(lb.fit_transform(y_test))"
   ]
  },
  {
   "cell_type": "markdown",
   "id": "744e552e",
   "metadata": {},
   "source": [
    "##### MULTILAYER LAYER PRECEPTRON:\n",
    "\n",
    "**Why MultiLayer Neural Network:**\n",
    "\n",
    "A single-layer neural network can only be used to represent linearly separable functions. This means very simple problems where, say, the two classes in a classification problem can be neatly separated by a line. If your problem is relatively simple, perhaps a single layer network would be sufficient.\n",
    "\n",
    "**INFORMATION BOTTLENECK:**\n",
    "  Neural network maps input to output values, by sequential proccessing through hidden layers, Each layer perceives information from the previous layer  and pass it to subsequent layer. If particular layer looses some information, those information cannot be retreived and it permenently inaccessible to the future layers. \n",
    "\n",
    "  To avoid subtantial information loss, we are gradually decreasing hidden units in every layer."
   ]
  },
  {
   "cell_type": "markdown",
   "id": "1644a56b",
   "metadata": {},
   "source": [
    "##### BASELINE DNN MODEL"
   ]
  },
  {
   "cell_type": "code",
   "execution_count": 35,
   "id": "a1bac8b9",
   "metadata": {},
   "outputs": [],
   "source": [
    "def baseline_model():\n",
    "    model = Sequential()\n",
    "\n",
    "    # input layer\n",
    "    model.add(Dense(65, input_dim = 32 , activation = 'relu'))\n",
    "\n",
    "    # hidden layer 1\n",
    "    model.add(Dense(50, activation = 'relu'))\n",
    "\n",
    "    # hidden layer 2\n",
    "    model.add(Dense(35, activation = 'relu'))\n",
    "\n",
    "    # hidden layer 3\n",
    "    model.add(Dense(20, activation = 'relu'))\n",
    "\n",
    "    # output layer\n",
    "    model.add(Dense(14, activation = 'softmax'))\n",
    "    \n",
    "    model.compile(loss = 'categorical_crossentropy' , optimizer = 'adam' , metrics = ['accuracy'])\n",
    "    \n",
    "    return model"
   ]
  },
  {
   "cell_type": "code",
   "execution_count": 36,
   "id": "847af930",
   "metadata": {},
   "outputs": [],
   "source": [
    "DNN_model = baseline_model()"
   ]
  },
  {
   "cell_type": "code",
   "execution_count": 37,
   "id": "be0bc71a",
   "metadata": {},
   "outputs": [
    {
     "name": "stdout",
     "output_type": "stream",
     "text": [
      "Model: \"sequential_1\"\n",
      "_________________________________________________________________\n",
      "Layer (type)                 Output Shape              Param #   \n",
      "=================================================================\n",
      "dense_5 (Dense)              (None, 65)                2145      \n",
      "_________________________________________________________________\n",
      "dense_6 (Dense)              (None, 50)                3300      \n",
      "_________________________________________________________________\n",
      "dense_7 (Dense)              (None, 35)                1785      \n",
      "_________________________________________________________________\n",
      "dense_8 (Dense)              (None, 20)                720       \n",
      "_________________________________________________________________\n",
      "dense_9 (Dense)              (None, 14)                294       \n",
      "=================================================================\n",
      "Total params: 8,244\n",
      "Trainable params: 8,244\n",
      "Non-trainable params: 0\n",
      "_________________________________________________________________\n"
     ]
    }
   ],
   "source": [
    "DNN_model.summary()"
   ]
  },
  {
   "cell_type": "markdown",
   "id": "50ae5c7f",
   "metadata": {},
   "source": [
    "##### MODEL TRAINING:"
   ]
  },
  {
   "cell_type": "code",
   "execution_count": 38,
   "id": "0b04da6f",
   "metadata": {},
   "outputs": [
    {
     "name": "stdout",
     "output_type": "stream",
     "text": [
      "Epoch 1/50\n",
      "1431/1431 [==============================] - 9s 4ms/step - loss: 2.0405 - accuracy: 0.2570 - val_loss: 1.7748 - val_accuracy: 0.3125\n",
      "Epoch 2/50\n",
      "1431/1431 [==============================] - 5s 4ms/step - loss: 1.6877 - accuracy: 0.3672 - val_loss: 1.6264 - val_accuracy: 0.3773\n",
      "Epoch 3/50\n",
      "1431/1431 [==============================] - 5s 4ms/step - loss: 1.5752 - accuracy: 0.4116 - val_loss: 1.6204 - val_accuracy: 0.3779\n",
      "Epoch 4/50\n",
      "1431/1431 [==============================] - 5s 4ms/step - loss: 1.5016 - accuracy: 0.4380 - val_loss: 1.5588 - val_accuracy: 0.4092\n",
      "Epoch 5/50\n",
      "1431/1431 [==============================] - 5s 4ms/step - loss: 1.4453 - accuracy: 0.4539 - val_loss: 1.5356 - val_accuracy: 0.4097\n",
      "Epoch 6/50\n",
      "1431/1431 [==============================] - 6s 4ms/step - loss: 1.3951 - accuracy: 0.4781 - val_loss: 1.5118 - val_accuracy: 0.4310\n",
      "Epoch 7/50\n",
      "1431/1431 [==============================] - 6s 4ms/step - loss: 1.3500 - accuracy: 0.4906 - val_loss: 1.4693 - val_accuracy: 0.4522\n",
      "Epoch 8/50\n",
      "1431/1431 [==============================] - 5s 4ms/step - loss: 1.3152 - accuracy: 0.5054 - val_loss: 1.4651 - val_accuracy: 0.4584\n",
      "Epoch 9/50\n",
      "1431/1431 [==============================] - 5s 4ms/step - loss: 1.2718 - accuracy: 0.5277 - val_loss: 1.4569 - val_accuracy: 0.4567\n",
      "Epoch 10/50\n",
      "1431/1431 [==============================] - 5s 4ms/step - loss: 1.2440 - accuracy: 0.5385 - val_loss: 1.4308 - val_accuracy: 0.4846\n",
      "Epoch 11/50\n",
      "1431/1431 [==============================] - 5s 4ms/step - loss: 1.2094 - accuracy: 0.5486 - val_loss: 1.4271 - val_accuracy: 0.4707\n",
      "Epoch 12/50\n",
      "1431/1431 [==============================] - 6s 4ms/step - loss: 1.1844 - accuracy: 0.5557 - val_loss: 1.4358 - val_accuracy: 0.4718\n",
      "Epoch 13/50\n",
      "1431/1431 [==============================] - 6s 4ms/step - loss: 1.1608 - accuracy: 0.5680 - val_loss: 1.4450 - val_accuracy: 0.4734\n",
      "Epoch 14/50\n",
      "1431/1431 [==============================] - 6s 4ms/step - loss: 1.1405 - accuracy: 0.5734 - val_loss: 1.4068 - val_accuracy: 0.4779\n",
      "Epoch 15/50\n",
      "1431/1431 [==============================] - 6s 4ms/step - loss: 1.1091 - accuracy: 0.5797 - val_loss: 1.4912 - val_accuracy: 0.4600\n",
      "Epoch 16/50\n",
      "1431/1431 [==============================] - 5s 4ms/step - loss: 1.0930 - accuracy: 0.5908 - val_loss: 1.4509 - val_accuracy: 0.4852\n",
      "Epoch 17/50\n",
      "1431/1431 [==============================] - 5s 4ms/step - loss: 1.0681 - accuracy: 0.5983 - val_loss: 1.4576 - val_accuracy: 0.4835\n",
      "Epoch 18/50\n",
      "1431/1431 [==============================] - 7s 5ms/step - loss: 1.0441 - accuracy: 0.6092 - val_loss: 1.4743 - val_accuracy: 0.4880\n",
      "Epoch 19/50\n",
      "1431/1431 [==============================] - 5s 4ms/step - loss: 1.0269 - accuracy: 0.6145 - val_loss: 1.4590 - val_accuracy: 0.4908\n",
      "Epoch 20/50\n",
      "1431/1431 [==============================] - 5s 4ms/step - loss: 1.0097 - accuracy: 0.6249 - val_loss: 1.5113 - val_accuracy: 0.4824\n",
      "Epoch 21/50\n",
      "1431/1431 [==============================] - 5s 4ms/step - loss: 0.9820 - accuracy: 0.6261 - val_loss: 1.4597 - val_accuracy: 0.4841\n",
      "Epoch 22/50\n",
      "1431/1431 [==============================] - 5s 4ms/step - loss: 0.9692 - accuracy: 0.6411 - val_loss: 1.4816 - val_accuracy: 0.4874\n",
      "Epoch 23/50\n",
      "1431/1431 [==============================] - 5s 4ms/step - loss: 0.9573 - accuracy: 0.6401 - val_loss: 1.4890 - val_accuracy: 0.4885\n",
      "Epoch 24/50\n",
      "1431/1431 [==============================] - 6s 5ms/step - loss: 0.9359 - accuracy: 0.6477 - val_loss: 1.5648 - val_accuracy: 0.4891\n",
      "Epoch 25/50\n",
      "1431/1431 [==============================] - 7s 5ms/step - loss: 0.9180 - accuracy: 0.6570 - val_loss: 1.5610 - val_accuracy: 0.4807\n",
      "Epoch 26/50\n",
      "1431/1431 [==============================] - 6s 4ms/step - loss: 0.9007 - accuracy: 0.6650 - val_loss: 1.5184 - val_accuracy: 0.5075\n",
      "Epoch 27/50\n",
      "1431/1431 [==============================] - 6s 4ms/step - loss: 0.8896 - accuracy: 0.6655 - val_loss: 1.5759 - val_accuracy: 0.4941\n",
      "Epoch 28/50\n",
      "1431/1431 [==============================] - 6s 4ms/step - loss: 0.8700 - accuracy: 0.6762 - val_loss: 1.5714 - val_accuracy: 0.5008\n",
      "Epoch 29/50\n",
      "1431/1431 [==============================] - 5s 4ms/step - loss: 0.8596 - accuracy: 0.6730 - val_loss: 1.5779 - val_accuracy: 0.4947\n",
      "Epoch 30/50\n",
      "1431/1431 [==============================] - 6s 4ms/step - loss: 0.8526 - accuracy: 0.6799 - val_loss: 1.6223 - val_accuracy: 0.4852\n",
      "Epoch 31/50\n",
      "1431/1431 [==============================] - 6s 4ms/step - loss: 0.8321 - accuracy: 0.6894 - val_loss: 1.6659 - val_accuracy: 0.4930\n",
      "Epoch 32/50\n",
      "1431/1431 [==============================] - 5s 4ms/step - loss: 0.8211 - accuracy: 0.6925 - val_loss: 1.6750 - val_accuracy: 0.5014\n",
      "Epoch 33/50\n",
      "1431/1431 [==============================] - 5s 4ms/step - loss: 0.8045 - accuracy: 0.6999 - val_loss: 1.6507 - val_accuracy: 0.5036\n",
      "Epoch 34/50\n",
      "1431/1431 [==============================] - 6s 4ms/step - loss: 0.7998 - accuracy: 0.6984 - val_loss: 1.6877 - val_accuracy: 0.4846\n",
      "Epoch 35/50\n",
      "1431/1431 [==============================] - 5s 4ms/step - loss: 0.7938 - accuracy: 0.7005 - val_loss: 1.7340 - val_accuracy: 0.4902\n",
      "Epoch 36/50\n",
      "1431/1431 [==============================] - 7s 5ms/step - loss: 0.7779 - accuracy: 0.7096 - val_loss: 1.7537 - val_accuracy: 0.4751\n",
      "Epoch 37/50\n",
      "1431/1431 [==============================] - 5s 4ms/step - loss: 0.7675 - accuracy: 0.7122 - val_loss: 1.6989 - val_accuracy: 0.5075\n",
      "Epoch 38/50\n",
      "1431/1431 [==============================] - 6s 4ms/step - loss: 0.7505 - accuracy: 0.7152 - val_loss: 1.7054 - val_accuracy: 0.4897\n",
      "Epoch 39/50\n",
      "1431/1431 [==============================] - 6s 4ms/step - loss: 0.7395 - accuracy: 0.7188 - val_loss: 1.7748 - val_accuracy: 0.4930\n",
      "Epoch 40/50\n",
      "1431/1431 [==============================] - 6s 4ms/step - loss: 0.7400 - accuracy: 0.7205 - val_loss: 1.7330 - val_accuracy: 0.4986\n",
      "Epoch 41/50\n",
      "1431/1431 [==============================] - 5s 4ms/step - loss: 0.7193 - accuracy: 0.7324 - val_loss: 1.8179 - val_accuracy: 0.5003\n",
      "Epoch 42/50\n",
      "1431/1431 [==============================] - 6s 4ms/step - loss: 0.7156 - accuracy: 0.7350 - val_loss: 1.8376 - val_accuracy: 0.4980\n",
      "Epoch 43/50\n",
      "1431/1431 [==============================] - 6s 4ms/step - loss: 0.7057 - accuracy: 0.7345 - val_loss: 1.8625 - val_accuracy: 0.5020\n",
      "Epoch 44/50\n",
      "1431/1431 [==============================] - 6s 4ms/step - loss: 0.6926 - accuracy: 0.7445 - val_loss: 1.8404 - val_accuracy: 0.5031\n",
      "Epoch 45/50\n",
      "1431/1431 [==============================] - 5s 4ms/step - loss: 0.6911 - accuracy: 0.7395 - val_loss: 1.8688 - val_accuracy: 0.5059\n",
      "Epoch 46/50\n",
      "1431/1431 [==============================] - 5s 4ms/step - loss: 0.6762 - accuracy: 0.7428 - val_loss: 1.9197 - val_accuracy: 0.4947\n",
      "Epoch 47/50\n",
      "1431/1431 [==============================] - 5s 4ms/step - loss: 0.6656 - accuracy: 0.7500 - val_loss: 1.9238 - val_accuracy: 0.4891\n",
      "Epoch 48/50\n",
      "1431/1431 [==============================] - 5s 4ms/step - loss: 0.6635 - accuracy: 0.7530 - val_loss: 2.0321 - val_accuracy: 0.4824\n",
      "Epoch 49/50\n",
      "1431/1431 [==============================] - 6s 4ms/step - loss: 0.6510 - accuracy: 0.7564 - val_loss: 1.9479 - val_accuracy: 0.5053\n",
      "Epoch 50/50\n",
      "1431/1431 [==============================] - 5s 4ms/step - loss: 0.6529 - accuracy: 0.7560 - val_loss: 1.9894 - val_accuracy: 0.4857\n"
     ]
    }
   ],
   "source": [
    "traceback = DNN_model.fit(X_train, y_train, epochs = 50, batch_size = 5,validation_data=(X_val, y_val))"
   ]
  },
  {
   "cell_type": "markdown",
   "id": "15e847ca",
   "metadata": {},
   "source": [
    "##### EVALUATION PART:"
   ]
  },
  {
   "cell_type": "code",
   "execution_count": 47,
   "id": "b4ecc9e9",
   "metadata": {},
   "outputs": [],
   "source": [
    "history = traceback.history\n",
    "\n",
    "# extract test_accuracy from model\n",
    "Accuracy_train = history['val_accuracy']\n",
    "\n",
    "# extract train_accuracy from model\n",
    "Accuracy_test = history['accuracy']"
   ]
  },
  {
   "cell_type": "code",
   "execution_count": 48,
   "id": "2c4bb93c",
   "metadata": {},
   "outputs": [
    {
     "data": {
      "image/png": "[encoded data removed]",
      "text/plain": [
       "<Figure size 432x288 with 1 Axes>"
      ]
     },
     "metadata": {
      "needs_background": "light"
     },
     "output_type": "display_data"
    }
   ],
   "source": [
    "#plot the metrics during training. \n",
    "epochs = range(1, (len(Loss_train) + 1))\n",
    "\n",
    "\n",
    "plt.plot(epochs, Accuracy_train, 'b',label='train_Acc')\n",
    "plt.plot(epochs, Accuracy_test, 'r',label='test_Acc')\n",
    "\n",
    "\n",
    "plt.xlabel('Epochs')\n",
    "plt.grid()\n",
    "plt.legend(loc=1)\n",
    "plt.show()"
   ]
  },
  {
   "cell_type": "markdown",
   "id": "a9f82221",
   "metadata": {},
   "source": [
    "This is the power of neural network, simple archeitecture leads us to good accuracy score of 76%.\n",
    "\n",
    "Lets, view through lens in which are the class model performs well and worse."
   ]
  },
  {
   "cell_type": "code",
   "execution_count": 59,
   "id": "7c3a9e57",
   "metadata": {},
   "outputs": [],
   "source": [
    "#Making prediction\n",
    "y_pred=DNN_model.predict(X_test)\n",
    "y_pred=np.argmax(y_pred,axis=1)\n",
    "\n",
    "# true values\n",
    "y_true=np.argmax(y_test,axis=1)"
   ]
  },
  {
   "cell_type": "code",
   "execution_count": 60,
   "id": "94f73495",
   "metadata": {},
   "outputs": [],
   "source": [
    "class_names = lb.classes_"
   ]
  },
  {
   "cell_type": "markdown",
   "id": "a1f80ee2",
   "metadata": {},
   "source": [
    "##### CONFUSION MATRIX:"
   ]
  },
  {
   "cell_type": "code",
   "execution_count": 57,
   "id": "152152c3",
   "metadata": {},
   "outputs": [],
   "source": [
    "#Defining function for confusion matrix plot\n",
    "def plot_confusion_matrix(y_true, y_pred, classes,\n",
    "                          normalize=False,\n",
    "                          title=None,\n",
    "                          cmap=plt.cm.Blues):\n",
    "\n",
    "    if not title:\n",
    "        if normalize:\n",
    "            title = 'Normalized confusion matrix'\n",
    "        else:\n",
    "            title = 'Confusion matrix, without normalization'\n",
    "\n",
    "    #Compute confusion matrix\n",
    "    cm = confusion_matrix(y_true, y_pred)\n",
    "    if normalize:\n",
    "        cm = cm.astype('float') / cm.sum(axis=1)[:, np.newaxis]\n",
    "        print(\"Normalized confusion matrix\")\n",
    "    else:\n",
    "        print('Confusion matrix, without normalization')\n",
    "\n",
    "#print(cm)\n",
    "\n",
    "    fig, ax = plt.subplots(figsize=(10,10))\n",
    "    im = ax.imshow(cm, interpolation='nearest', cmap=cmap)\n",
    "    ax.figure.colorbar(im, ax=ax)\n",
    "    # We want to show all ticks...\n",
    "    ax.set(xticks=np.arange(cm.shape[1]),\n",
    "           yticks=np.arange(cm.shape[0]),\n",
    "           # ... and label them with the respective list entries\n",
    "           xticklabels=classes, yticklabels=classes,\n",
    "           title=title,\n",
    "           ylabel='True label',\n",
    "           xlabel='Predicted label')\n",
    "\n",
    "\n",
    "    #Rotate the tick labels and set their alignment.\n",
    "    plt.setp(ax.get_xticklabels(), rotation=45, ha=\"right\",\n",
    "             rotation_mode=\"anchor\")\n",
    "    # Loop over data dimensions and create text annotations.\n",
    "    fmt = '.2f' if normalize else 'd'\n",
    "    thresh = cm.max() / 2.\n",
    "    for i in range(cm.shape[0]):\n",
    "        for j in range(cm.shape[1]):\n",
    "            ax.text(j, i, format(cm[i, j], fmt),\n",
    "                    ha=\"center\", va=\"center\",\n",
    "                    color=\"white\" if cm[i, j] > thresh else \"black\")\n",
    "    fig.tight_layout()\n",
    "    fig.savefig('cm.png')\n",
    "    return ax"
   ]
  },
  {
   "cell_type": "code",
   "execution_count": 61,
   "id": "3b0e1b24",
   "metadata": {},
   "outputs": [
    {
     "name": "stdout",
     "output_type": "stream",
     "text": [
      "Normalized confusion matrix\n"
     ]
    },
    {
     "data": {
      "image/png": "[encoded data removed]",
      "text/plain": [
       "<Figure size 720x720 with 2 Axes>"
      ]
     },
     "metadata": {
      "needs_background": "light"
     },
     "output_type": "display_data"
    }
   ],
   "source": [
    "#Defining the class labels\n",
    "class_names = class_names\n",
    "\n",
    "# Plotting normalized confusion matrix\n",
    "confusion_matrix_test = plot_confusion_matrix(y_true, y_pred, classes = class_names, title='normalized confusion matrix',\n",
    "                                              normalize=True)"
   ]
  },
  {
   "cell_type": "markdown",
   "id": "5838ec23",
   "metadata": {},
   "source": [
    "##### F1 SCORE:"
   ]
  },
  {
   "cell_type": "code",
   "execution_count": 63,
   "id": "caea70c4",
   "metadata": {},
   "outputs": [],
   "source": [
    "def F1_Score(y_true, y_pred,class_names):\n",
    "  test_keys = class_names.tolist()\n",
    "  test_values = f1_score(y_true, y_pred,average=None).tolist()\n",
    "  res = {'labels' :test_keys, 'F1_score' : test_values}\n",
    "  df = pd.DataFrame.from_dict(res)\n",
    "  fig, ax = plt.subplots(figsize = ( 15 , 7 ))\n",
    "  ax = sns.barplot(x=\"labels\", y=\"F1_score\", data=df,palette='gist_earth_r')\n",
    "  plt.setp(ax.get_xticklabels(), rotation=45, ha=\"right\",\n",
    "             rotation_mode=\"anchor\")\n",
    "\n",
    "  ax.axhline(y=df['F1_score'].min(), xmin=0.0, xmax=1.0, color='r',)\n",
    "  ax.set_title( \"F1_score_per_class\" , size = 24 )\n",
    "  return ax"
   ]
  },
  {
   "cell_type": "code",
   "execution_count": 64,
   "id": "a08c6c78",
   "metadata": {},
   "outputs": [
    {
     "data": {
      "text/plain": [
       "<AxesSubplot:title={'center':'F1_score_per_class'}, xlabel='labels', ylabel='F1_score'>"
      ]
     },
     "execution_count": 64,
     "metadata": {},
     "output_type": "execute_result"
    },
    {
     "data": {
      "image/png": "[encoded data removed]",
      "text/plain": [
       "<Figure size 1080x504 with 1 Axes>"
      ]
     },
     "metadata": {
      "needs_background": "light"
     },
     "output_type": "display_data"
    }
   ],
   "source": [
    "F1_Score(y_true, y_pred,class_names)"
   ]
  },
  {
   "cell_type": "markdown",
   "id": "5f932466",
   "metadata": {},
   "source": [
    "By simple model we can acheive descent test accuracy of 50%. \n",
    "\n",
    "**PROS OF BASELINE MODEL:**\n",
    "\n",
    "\n",
    "*   Model classifies gender emotions well.\n",
    "*   Model having high positive rates over Women_happy, Men_sad, Women_angry, Men_angry.\n",
    "\n",
    "**NEED:**\n",
    "\n",
    "Have to increase positive rates over remaining classes too, lets tweak some hyperparametres, in the expect to get better accuracy.\n",
    "\n",
    "**LIST OF HYPERPARAMETRES:**\n",
    "  Neural networks has wide varities of hyperparameters, lets categories and prioritize some of them for our use cases.\n",
    "\n",
    "*   Learning Rate (alpha)\n",
    "*   Momentum Beta for optimizers like RMS-Prop\n",
    "\n",
    "\n",
    "*   Minibatch size\n",
    "*   Number of hidden Layers\n",
    "\n",
    "\n",
    "*   Number of Neurons per layer\n",
    "*   Learning rate Decay\n",
    "\n",
    "\n",
    "*   Regularization\n",
    "\n",
    "**APPROACH:**\n",
    "\n",
    "\n",
    "*   Grid Search\n",
    "*   Random Search\n",
    "\n",
    "\n",
    "*   Bayesian Optimization"
   ]
  },
  {
   "cell_type": "markdown",
   "id": "947dfb47",
   "metadata": {},
   "source": [
    "##### HYPERPARAMETRE TUNING:"
   ]
  },
  {
   "cell_type": "code",
   "execution_count": 73,
   "id": "ee65fa97",
   "metadata": {},
   "outputs": [],
   "source": [
    "def DNN_model_tuner(hp):\n",
    "  \n",
    "  # parametric space\n",
    "  num_hidden_layers = hp.Choice('num_hidden_layers', values = [3, 4])\n",
    "  num_units = hp.Choice('num_units', values = [64, 60, 55, 40 ])\n",
    "  dropout_rate = hp.Float('dropout_rate', min_value = 0.30, max_value=0.5, step=0.05 )\n",
    "  learning_rate = hp.Float('learning_rate', min_value = 0.0001, max_value=0.01, sampling='LOG')\n",
    "\n",
    "  # initiate sequence\n",
    "  model = tf.keras.models.Sequential()\n",
    "  # input layer\n",
    "  model.add(tf.keras.layers.Dense(num_units, input_dim = 32 , activation = 'relu'))\n",
    "\n",
    "  for i in range(0, num_hidden_layers):\n",
    "    # fully connected layer\n",
    "    model.add(tf.keras.layers.Dense(num_units))\n",
    "    # batch Normalization\n",
    "    model.add(tf.keras.layers.BatchNormalization())\n",
    "    # Activation Layer\n",
    "    model.add(tf.keras.layers.Activation(activation='relu'))\n",
    "    # Dropout Layer\n",
    "    model.add(tf.keras.layers.Dropout(dropout_rate))\n",
    "  # Output Layer\n",
    "  model.add(tf.keras.layers.Dense(14, activation = 'softmax'))\n",
    "  # model compliling\n",
    "  model.compile(\n",
    "      loss = 'categorical_crossentropy',\n",
    "      optimizer = tf.keras.optimizers.Adam(learning_rate=learning_rate),\n",
    "      metrics = ['accuracy']\n",
    "  )\n",
    "\n",
    "  return model"
   ]
  },
  {
   "cell_type": "code",
   "execution_count": 74,
   "id": "0b0af1df",
   "metadata": {},
   "outputs": [],
   "source": [
    "class CustomTuner(keras_tuner.tuners.RandomSearch):\n",
    "  def run_trial(self, trial, *args, **kwargs):\n",
    "    # You can add additional HyperParameters for preprocessing and custom training loops\n",
    "    # via overriding `run_trial`\n",
    "    kwargs['batch_size'] = trial.hyperparameters.Int('batch_size', min_value=32, max_value=512, step=64)\n",
    "    kwargs['epochs'] = trial.hyperparameters.Int('epochs', min_value=100, max_value=300, step=100)\n",
    "    super(CustomTuner, self).run_trial(trial, *args, **kwargs)"
   ]
  },
  {
   "cell_type": "code",
   "execution_count": 75,
   "id": "b764cd13",
   "metadata": {},
   "outputs": [],
   "source": [
    "tuner = CustomTuner(\n",
    "    DNN_model_tuner,\n",
    "    objective = 'val_accuracy',\n",
    "    max_trials = 20,\n",
    "    directory = 'logs',\n",
    "    project_name = 'emotion_recognition',\n",
    "    overwrite = True\n",
    ")"
   ]
  },
  {
   "cell_type": "code",
   "execution_count": 76,
   "id": "67029e0d",
   "metadata": {},
   "outputs": [
    {
     "name": "stdout",
     "output_type": "stream",
     "text": [
      "Trial 20 Complete [00h 01m 31s]\n",
      "val_accuracy: 0.3893360197544098\n",
      "\n",
      "Best val_accuracy So Far: 0.5291750431060791\n",
      "Total elapsed time: 00h 40m 14s\n",
      "INFO:tensorflow:Oracle triggered exit\n"
     ]
    }
   ],
   "source": [
    "tuner.search(\n",
    "    X_train, y_train,\n",
    "    validation_data = (X_test, y_test),\n",
    "    verbose = True\n",
    ")"
   ]
  },
  {
   "cell_type": "markdown",
   "id": "5b7c16b2",
   "metadata": {},
   "source": [
    "SELECTING TOP 1 MODEL FROM SEARCH SPACE:"
   ]
  },
  {
   "cell_type": "code",
   "execution_count": 77,
   "id": "dfa36890",
   "metadata": {},
   "outputs": [
    {
     "name": "stdout",
     "output_type": "stream",
     "text": [
      "Results summary\n",
      "Results in logs\\emotion_recognition\n",
      "Showing 1 best trials\n",
      "Objective(name='val_accuracy', direction='max')\n",
      "Trial summary\n",
      "Hyperparameters:\n",
      "num_hidden_layers: 3\n",
      "num_units: 60\n",
      "dropout_rate: 0.39999999999999997\n",
      "learning_rate: 0.006189539451443283\n",
      "batch_size: 480\n",
      "epochs: 200\n",
      "Score: 0.5291750431060791\n"
     ]
    }
   ],
   "source": [
    "tuner.results_summary(1)"
   ]
  },
  {
   "cell_type": "code",
   "execution_count": 78,
   "id": "9aba53d0",
   "metadata": {},
   "outputs": [],
   "source": [
    "# extract best model from search\n",
    "best_model = tuner.get_best_models(num_models=1)[0]"
   ]
  },
  {
   "cell_type": "code",
   "execution_count": 80,
   "id": "26119e0e",
   "metadata": {},
   "outputs": [],
   "source": [
    "#Making prediction\n",
    "y_pred = best_model.predict(X_test)\n",
    "y_pred = np.argmax(y_pred,axis=1)"
   ]
  },
  {
   "cell_type": "code",
   "execution_count": 82,
   "id": "4c32d4c6",
   "metadata": {},
   "outputs": [
    {
     "data": {
      "text/plain": [
       "<AxesSubplot:title={'center':'F1_score_per_class'}, xlabel='labels', ylabel='F1_score'>"
      ]
     },
     "execution_count": 82,
     "metadata": {},
     "output_type": "execute_result"
    },
    {
     "data": {
      "image/png": "[encoded data removed]",
      "text/plain": [
       "<Figure size 1080x504 with 1 Axes>"
      ]
     },
     "metadata": {
      "needs_background": "light"
     },
     "output_type": "display_data"
    }
   ],
   "source": [
    "# F1 Score for test data\n",
    "F1_Score(y_true, y_pred,class_names)"
   ]
  },
  {
   "cell_type": "markdown",
   "id": "d3faf91d",
   "metadata": {},
   "source": [
    "\n",
    "##### 1D CONVOLUTIONAL NEURAL NETWORK:"
   ]
  },
  {
   "cell_type": "code",
   "execution_count": 83,
   "id": "dea6705e",
   "metadata": {},
   "outputs": [
    {
     "data": {
      "text/plain": [
       "(7155, 32, 1)"
      ]
     },
     "execution_count": 83,
     "metadata": {},
     "output_type": "execute_result"
    }
   ],
   "source": [
    "# converting 2D to 3D tensor\n",
    "X_train = np.expand_dims(X_train, axis=2)\n",
    "X_test = np.expand_dims(X_test, axis=2)\n",
    "X_train.shape"
   ]
  },
  {
   "cell_type": "code",
   "execution_count": 92,
   "id": "00586828",
   "metadata": {},
   "outputs": [],
   "source": [
    "n_timesteps, n_features, n_outputs = X_train.shape[1], X_train.shape[2], y_train.shape[0]"
   ]
  },
  {
   "cell_type": "code",
   "execution_count": 101,
   "id": "2795b456",
   "metadata": {},
   "outputs": [],
   "source": [
    "def CNN_1D_Baseline():    \n",
    "    model = Sequential()\n",
    "\n",
    "    model.add(Conv1D(filters=64, kernel_size=3, activation='relu', input_shape=(n_timesteps,n_features)))\n",
    "\n",
    "    model.add(Conv1D(filters=64, kernel_size=3, activation='relu'))\n",
    "    model.add(Dropout(0.5))\n",
    "    model.add(MaxPooling1D(pool_size=2))\n",
    "\n",
    "    model.add(Flatten())\n",
    "\n",
    "    model.add(Dense(100, activation='relu'))\n",
    "\n",
    "    model.add(Dense(14, activation='softmax'))\n",
    "    model.compile(loss='categorical_crossentropy', optimizer='adam', metrics=['accuracy'])\n",
    "    return model"
   ]
  },
  {
   "cell_type": "code",
   "execution_count": 102,
   "id": "f25acd4e",
   "metadata": {},
   "outputs": [],
   "source": [
    "CONV1D = CNN_1D_Baseline()"
   ]
  },
  {
   "cell_type": "code",
   "execution_count": 103,
   "id": "63c1264f",
   "metadata": {},
   "outputs": [
    {
     "name": "stdout",
     "output_type": "stream",
     "text": [
      "Model: \"sequential_5\"\n",
      "_________________________________________________________________\n",
      "Layer (type)                 Output Shape              Param #   \n",
      "=================================================================\n",
      "conv1d_8 (Conv1D)            (None, 30, 64)            256       \n",
      "_________________________________________________________________\n",
      "conv1d_9 (Conv1D)            (None, 28, 64)            12352     \n",
      "_________________________________________________________________\n",
      "dropout_7 (Dropout)          (None, 28, 64)            0         \n",
      "_________________________________________________________________\n",
      "max_pooling1d_4 (MaxPooling1 (None, 14, 64)            0         \n",
      "_________________________________________________________________\n",
      "flatten_4 (Flatten)          (None, 896)               0         \n",
      "_________________________________________________________________\n",
      "dense_13 (Dense)             (None, 100)               89700     \n",
      "_________________________________________________________________\n",
      "dense_14 (Dense)             (None, 14)                1414      \n",
      "=================================================================\n",
      "Total params: 103,722\n",
      "Trainable params: 103,722\n",
      "Non-trainable params: 0\n",
      "_________________________________________________________________\n"
     ]
    }
   ],
   "source": [
    "CONV1D.summary()"
   ]
  },
  {
   "cell_type": "code",
   "execution_count": 104,
   "id": "e9dacd47",
   "metadata": {},
   "outputs": [
    {
     "name": "stdout",
     "output_type": "stream",
     "text": [
      "Epoch 1/10\n",
      "224/224 [==============================] - 8s 22ms/step - loss: 2.1797 - accuracy: 0.2345 - val_loss: 1.9720 - val_accuracy: 0.3048\n",
      "Epoch 2/10\n",
      "224/224 [==============================] - 4s 16ms/step - loss: 1.9045 - accuracy: 0.3173 - val_loss: 1.8276 - val_accuracy: 0.3571\n",
      "Epoch 3/10\n",
      "224/224 [==============================] - 4s 16ms/step - loss: 1.8147 - accuracy: 0.3458 - val_loss: 1.7137 - val_accuracy: 0.3944\n",
      "Epoch 4/10\n",
      "224/224 [==============================] - 4s 17ms/step - loss: 1.7543 - accuracy: 0.3644 - val_loss: 1.6984 - val_accuracy: 0.3873\n",
      "Epoch 5/10\n",
      "224/224 [==============================] - 4s 18ms/step - loss: 1.7097 - accuracy: 0.3814 - val_loss: 1.6530 - val_accuracy: 0.4074\n",
      "Epoch 6/10\n",
      "224/224 [==============================] - 4s 17ms/step - loss: 1.6616 - accuracy: 0.4024 - val_loss: 1.6123 - val_accuracy: 0.4225\n",
      "Epoch 7/10\n",
      "224/224 [==============================] - 4s 17ms/step - loss: 1.6418 - accuracy: 0.4092 - val_loss: 1.5901 - val_accuracy: 0.4235\n",
      "Epoch 8/10\n",
      "224/224 [==============================] - 4s 19ms/step - loss: 1.6101 - accuracy: 0.4168 - val_loss: 1.5707 - val_accuracy: 0.4296\n",
      "Epoch 9/10\n",
      "224/224 [==============================] - 4s 19ms/step - loss: 1.5691 - accuracy: 0.4331 - val_loss: 1.5432 - val_accuracy: 0.4497\n",
      "Epoch 10/10\n",
      "224/224 [==============================] - 4s 17ms/step - loss: 1.5421 - accuracy: 0.4306 - val_loss: 1.5160 - val_accuracy: 0.4467\n"
     ]
    },
    {
     "data": {
      "text/plain": [
       "<keras.callbacks.History at 0x1a52efbe1c0>"
      ]
     },
     "execution_count": 104,
     "metadata": {},
     "output_type": "execute_result"
    }
   ],
   "source": [
    "CONV1D.fit(X_train, y_train, epochs=10, batch_size=32,validation_data=(X_test, y_test))"
   ]
  },
  {
   "cell_type": "code",
   "execution_count": 105,
   "id": "71fa7ab2",
   "metadata": {},
   "outputs": [],
   "source": [
    "#Making prediction\n",
    "y_pred = CONV1D.predict(X_test)\n",
    "y_pred = np.argmax(y_pred,axis=1)"
   ]
  },
  {
   "cell_type": "code",
   "execution_count": 106,
   "id": "7dbd46d6",
   "metadata": {},
   "outputs": [
    {
     "name": "stdout",
     "output_type": "stream",
     "text": [
      "32/32 [==============================] - 0s 8ms/step - loss: 1.5160 - accuracy: 0.4467\n"
     ]
    }
   ],
   "source": [
    "# CNN model using unseen data\n",
    "loss, accuracy = CONV1D.evaluate(X_test, y_test)"
   ]
  },
  {
   "cell_type": "code",
   "execution_count": 107,
   "id": "1125aeeb",
   "metadata": {},
   "outputs": [
    {
     "data": {
      "text/plain": [
       "<AxesSubplot:title={'center':'F1_score_per_class'}, xlabel='labels', ylabel='F1_score'>"
      ]
     },
     "execution_count": 107,
     "metadata": {},
     "output_type": "execute_result"
    },
    {
     "data": {
      "image/png": "[encoded data removed]",
      "text/plain": [
       "<Figure size 1080x504 with 1 Axes>"
      ]
     },
     "metadata": {
      "needs_background": "light"
     },
     "output_type": "display_data"
    }
   ],
   "source": [
    "# F1 Score for test data\n",
    "F1_Score(y_true, y_pred,class_names)"
   ]
  }
 ],
 "metadata": {
  "kernelspec": {
   "display_name": "st_app_env",
   "language": "python",
   "name": "st_app_env"
  },
  "language_info": {
   "codemirror_mode": {
    "name": "ipython",
    "version": 3
   },
   "file_extension": ".py",
   "mimetype": "text/x-python",
   "name": "python",
   "nbconvert_exporter": "python",
   "pygments_lexer": "ipython3",
   "version": "3.9.6"
  }
 },
 "nbformat": 4,
 "nbformat_minor": 5
}
