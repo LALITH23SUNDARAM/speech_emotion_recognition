{
 "cells": [
  {
   "cell_type": "code",
   "execution_count": 8,
   "id": "6a0a1d24",
   "metadata": {},
   "outputs": [],
   "source": [
    "# IMPORT DEPENDENCIES...\n",
    "# for algeberic and analytics framework\n",
    "import numpy as np\n",
    "import pandas as pd\n",
    "# for visualization\n",
    "import seaborn as sns\n",
    "import matplotlib.pyplot as plt\n",
    "#to process audio data\n",
    "import librosa\n",
    "import librosa.display\n",
    "# data preprocessing\n",
    "from sklearn.model_selection import train_test_split\n",
    "from tensorflow.keras.utils import to_categorical\n",
    "from sklearn.preprocessing import LabelEncoder\n",
    "from sklearn.preprocessing import StandardScaler\n",
    "# to build model architecture\n",
    "import keras\n",
    "from keras.models import Sequential\n",
    "from keras.layers import *\n",
    "# to evaluate model results\n",
    "from sklearn.metrics import accuracy_score\n",
    "from sklearn.metrics import confusion_matrix\n",
    "from sklearn.metrics import f1_score"
   ]
  },
  {
   "cell_type": "markdown",
   "id": "b9075c5d",
   "metadata": {},
   "source": [
    "##### LOAD PROCESSED DATASET:"
   ]
  },
  {
   "cell_type": "code",
   "execution_count": 2,
   "id": "6f75a99a",
   "metadata": {},
   "outputs": [
    {
     "data": {
      "text/html": [
       "<div>\n",
       "<style scoped>\n",
       "    .dataframe tbody tr th:only-of-type {\n",
       "        vertical-align: middle;\n",
       "    }\n",
       "\n",
       "    .dataframe tbody tr th {\n",
       "        vertical-align: top;\n",
       "    }\n",
       "\n",
       "    .dataframe thead th {\n",
       "        text-align: right;\n",
       "    }\n",
       "</style>\n",
       "<table border=\"1\" class=\"dataframe\">\n",
       "  <thead>\n",
       "    <tr style=\"text-align: right;\">\n",
       "      <th></th>\n",
       "      <th>path</th>\n",
       "      <th>Speaker</th>\n",
       "      <th>Emotion</th>\n",
       "      <th>Label</th>\n",
       "    </tr>\n",
       "  </thead>\n",
       "  <tbody>\n",
       "    <tr>\n",
       "      <th>0</th>\n",
       "      <td>data\\RAVDEES\\Actor_01\\03-01-01-01-01-01-01.wav</td>\n",
       "      <td>Men</td>\n",
       "      <td>neutral</td>\n",
       "      <td>Men_neutral</td>\n",
       "    </tr>\n",
       "    <tr>\n",
       "      <th>1</th>\n",
       "      <td>data\\RAVDEES\\Actor_01\\03-01-01-01-01-02-01.wav</td>\n",
       "      <td>Men</td>\n",
       "      <td>neutral</td>\n",
       "      <td>Men_neutral</td>\n",
       "    </tr>\n",
       "    <tr>\n",
       "      <th>2</th>\n",
       "      <td>data\\RAVDEES\\Actor_01\\03-01-01-01-02-01-01.wav</td>\n",
       "      <td>Men</td>\n",
       "      <td>neutral</td>\n",
       "      <td>Men_neutral</td>\n",
       "    </tr>\n",
       "    <tr>\n",
       "      <th>3</th>\n",
       "      <td>data\\RAVDEES\\Actor_01\\03-01-01-01-02-02-01.wav</td>\n",
       "      <td>Men</td>\n",
       "      <td>neutral</td>\n",
       "      <td>Men_neutral</td>\n",
       "    </tr>\n",
       "    <tr>\n",
       "      <th>4</th>\n",
       "      <td>data\\RAVDEES\\Actor_01\\03-01-02-01-01-01-01.wav</td>\n",
       "      <td>Men</td>\n",
       "      <td>calm</td>\n",
       "      <td>Men_calm</td>\n",
       "    </tr>\n",
       "  </tbody>\n",
       "</table>\n",
       "</div>"
      ],
      "text/plain": [
       "                                             path Speaker  Emotion  \\\n",
       "0  data\\RAVDEES\\Actor_01\\03-01-01-01-01-01-01.wav     Men  neutral   \n",
       "1  data\\RAVDEES\\Actor_01\\03-01-01-01-01-02-01.wav     Men  neutral   \n",
       "2  data\\RAVDEES\\Actor_01\\03-01-01-01-02-01-01.wav     Men  neutral   \n",
       "3  data\\RAVDEES\\Actor_01\\03-01-01-01-02-02-01.wav     Men  neutral   \n",
       "4  data\\RAVDEES\\Actor_01\\03-01-02-01-01-01-01.wav     Men     calm   \n",
       "\n",
       "         Label  \n",
       "0  Men_neutral  \n",
       "1  Men_neutral  \n",
       "2  Men_neutral  \n",
       "3  Men_neutral  \n",
       "4     Men_calm  "
      ]
     },
     "execution_count": 2,
     "metadata": {},
     "output_type": "execute_result"
    }
   ],
   "source": [
    "audio_df = pd.read_csv('features/Ravdees_df.csv')\n",
    "audio_df.drop(['Unnamed: 0'],axis=1,inplace=True)\n",
    "audio_df.head()"
   ]
  },
  {
   "cell_type": "markdown",
   "id": "794d920f",
   "metadata": {},
   "source": [
    "Extracting mfcc feature, but now we are extracting first 40 frquency bands."
   ]
  },
  {
   "cell_type": "code",
   "execution_count": 71,
   "id": "2f99cec5",
   "metadata": {},
   "outputs": [],
   "source": [
    "def extract_mfcc(wav_file_name):\n",
    "    #This function extracts mfcc features and obtain the mean of each dimension\n",
    "    #Input : path_to_wav_file\n",
    "    #Output: mfcc_features'''\n",
    "    y, sr = librosa.load(wav_file_name,duration=3\n",
    "                                  ,offset=0.5)\n",
    "    mfccs = np.mean(librosa.feature.mfcc(y=y, sr=sr, n_mfcc=40).T,axis=0)\n",
    "    \n",
    "    return mfccs"
   ]
  },
  {
   "cell_type": "code",
   "execution_count": 74,
   "id": "38728448",
   "metadata": {},
   "outputs": [],
   "source": [
    "speech_data = []\n",
    "for filename in audio_df['path'].to_list():\n",
    "    speech_data.append(extract_mfcc(filename))"
   ]
  },
  {
   "cell_type": "code",
   "execution_count": 4,
   "id": "75a605b1",
   "metadata": {},
   "outputs": [],
   "source": [
    "# speech_data_array = np.asarray(speech_data)\n",
    "\n",
    "speech_label_array  = np.asarray(audio_df['Label'])"
   ]
  },
  {
   "cell_type": "markdown",
   "id": "1ef519d7",
   "metadata": {},
   "source": [
    "##### ONE HOD ENCODING TARGET VARIABLE:"
   ]
  },
  {
   "cell_type": "code",
   "execution_count": 5,
   "id": "5424cea5",
   "metadata": {},
   "outputs": [],
   "source": [
    "lb = LabelEncoder()\n",
    "\n",
    "labels_categorical = to_categorical(lb.fit_transform(speech_label_array))"
   ]
  },
  {
   "cell_type": "code",
   "execution_count": 80,
   "id": "2ccd7cf8",
   "metadata": {},
   "outputs": [],
   "source": [
    "# train test split\n",
    "x_train,x_test,y_train,y_test= train_test_split(speech_data_array,\n",
    "                                                labels_categorical, test_size=0.20, random_state=9)"
   ]
  },
  {
   "cell_type": "code",
   "execution_count": 30,
   "id": "f38c91d1",
   "metadata": {},
   "outputs": [],
   "source": [
    "x_train = np.expand_dims(x_train,-1)\n",
    "\n",
    "x_test = np.expand_dims(x_test,-1)"
   ]
  },
  {
   "cell_type": "markdown",
   "id": "7abc2b43",
   "metadata": {},
   "source": [
    "##### EXPERIMENT:"
   ]
  },
  {
   "cell_type": "code",
   "execution_count": 81,
   "id": "a54dc8ca",
   "metadata": {},
   "outputs": [],
   "source": [
    "normalizer = StandardScaler()"
   ]
  },
  {
   "cell_type": "code",
   "execution_count": 82,
   "id": "505d782a",
   "metadata": {},
   "outputs": [],
   "source": [
    "x_train = normalizer.fit_transform(x_train)\n",
    "x_test = normalizer.transform(x_test)"
   ]
  },
  {
   "cell_type": "code",
   "execution_count": 88,
   "id": "b208e860",
   "metadata": {},
   "outputs": [],
   "source": [
    "x_train = np.expand_dims(x_train,-1)\n",
    "x_test = np.expand_dims(x_test,-1)"
   ]
  },
  {
   "cell_type": "code",
   "execution_count": 86,
   "id": "3a8e21ec",
   "metadata": {},
   "outputs": [],
   "source": [
    "# store mean and variance for future usage\n",
    "mean = normalizer.mean_\n",
    "variance = normalizer.var_"
   ]
  },
  {
   "cell_type": "markdown",
   "id": "35708459",
   "metadata": {},
   "source": [
    "##### LSTM ARCHITECTURE:"
   ]
  },
  {
   "cell_type": "code",
   "execution_count": 89,
   "id": "59ca580a",
   "metadata": {},
   "outputs": [],
   "source": [
    "def create_model_LSTM():\n",
    "    model = Sequential()\n",
    "    model.add(LSTM(128, return_sequences=False, input_shape=(40, 1)))\n",
    "    model.add(Dense(64))\n",
    "    model.add(Dropout(0.4))\n",
    "    model.add(Activation('relu'))\n",
    "    model.add(Dense(32))\n",
    "    model.add(Dropout(0.4))\n",
    "    model.add(Activation('relu'))\n",
    "    model.add(Dense(16))\n",
    "    model.add(Activation('softmax'))\n",
    "    \n",
    "    # Configures the model for training\n",
    "    model.compile(loss='categorical_crossentropy', optimizer='Adam', metrics=['accuracy'])\n",
    "    return model"
   ]
  },
  {
   "cell_type": "code",
   "execution_count": 90,
   "id": "e1ec2282",
   "metadata": {},
   "outputs": [],
   "source": [
    "LSTM_model = create_model_LSTM()"
   ]
  },
  {
   "cell_type": "code",
   "execution_count": 91,
   "id": "fb54e637",
   "metadata": {},
   "outputs": [
    {
     "name": "stdout",
     "output_type": "stream",
     "text": [
      "Model: \"sequential_9\"\n",
      "_________________________________________________________________\n",
      "Layer (type)                 Output Shape              Param #   \n",
      "=================================================================\n",
      "lstm_16 (LSTM)               (None, 128)               66560     \n",
      "_________________________________________________________________\n",
      "dense_21 (Dense)             (None, 64)                8256      \n",
      "_________________________________________________________________\n",
      "dropout_10 (Dropout)         (None, 64)                0         \n",
      "_________________________________________________________________\n",
      "activation_3 (Activation)    (None, 64)                0         \n",
      "_________________________________________________________________\n",
      "dense_22 (Dense)             (None, 32)                2080      \n",
      "_________________________________________________________________\n",
      "dropout_11 (Dropout)         (None, 32)                0         \n",
      "_________________________________________________________________\n",
      "activation_4 (Activation)    (None, 32)                0         \n",
      "_________________________________________________________________\n",
      "dense_23 (Dense)             (None, 16)                528       \n",
      "_________________________________________________________________\n",
      "activation_5 (Activation)    (None, 16)                0         \n",
      "=================================================================\n",
      "Total params: 77,424\n",
      "Trainable params: 77,424\n",
      "Non-trainable params: 0\n",
      "_________________________________________________________________\n"
     ]
    }
   ],
   "source": [
    "LSTM_model.summary()"
   ]
  },
  {
   "cell_type": "markdown",
   "id": "acd827b5",
   "metadata": {},
   "source": [
    "##### TRAINING:"
   ]
  },
  {
   "cell_type": "code",
   "execution_count": 93,
   "id": "117cb40e",
   "metadata": {},
   "outputs": [
    {
     "name": "stdout",
     "output_type": "stream",
     "text": [
      "Epoch 1/200\n",
      "72/72 [==============================] - 16s 132ms/step - loss: 2.6836 - accuracy: 0.1246 - val_loss: 2.4742 - val_accuracy: 0.1510\n",
      "Epoch 2/200\n",
      "72/72 [==============================] - 7s 102ms/step - loss: 2.5064 - accuracy: 0.1554 - val_loss: 2.3619 - val_accuracy: 0.2031\n",
      "Epoch 3/200\n",
      "72/72 [==============================] - 7s 98ms/step - loss: 2.4232 - accuracy: 0.1658 - val_loss: 2.2419 - val_accuracy: 0.2170\n",
      "Epoch 4/200\n",
      "72/72 [==============================] - 7s 101ms/step - loss: 2.3642 - accuracy: 0.1862 - val_loss: 2.1983 - val_accuracy: 0.2170\n",
      "Epoch 5/200\n",
      "72/72 [==============================] - 9s 127ms/step - loss: 2.3181 - accuracy: 0.1866 - val_loss: 2.1660 - val_accuracy: 0.2448\n",
      "Epoch 6/200\n",
      "72/72 [==============================] - 16s 214ms/step - loss: 2.3046 - accuracy: 0.1871 - val_loss: 2.1488 - val_accuracy: 0.2326\n",
      "Epoch 7/200\n",
      "72/72 [==============================] - 14s 200ms/step - loss: 2.2767 - accuracy: 0.1936 - val_loss: 2.1862 - val_accuracy: 0.2535\n",
      "Epoch 8/200\n",
      "72/72 [==============================] - 10s 140ms/step - loss: 2.2402 - accuracy: 0.2010 - val_loss: 2.1345 - val_accuracy: 0.2708\n",
      "Epoch 9/200\n",
      "72/72 [==============================] - 11s 157ms/step - loss: 2.1975 - accuracy: 0.2318 - val_loss: 2.0742 - val_accuracy: 0.2656\n",
      "Epoch 10/200\n",
      "72/72 [==============================] - 11s 156ms/step - loss: 2.1838 - accuracy: 0.2318 - val_loss: 2.0381 - val_accuracy: 0.2882\n",
      "Epoch 11/200\n",
      "72/72 [==============================] - 10s 142ms/step - loss: 2.1624 - accuracy: 0.2361 - val_loss: 2.0472 - val_accuracy: 0.2899\n",
      "Epoch 12/200\n",
      "72/72 [==============================] - 9s 125ms/step - loss: 2.1399 - accuracy: 0.2474 - val_loss: 1.9857 - val_accuracy: 0.2899\n",
      "Epoch 13/200\n",
      "72/72 [==============================] - 10s 134ms/step - loss: 2.0941 - accuracy: 0.2617 - val_loss: 1.9616 - val_accuracy: 0.3125\n",
      "Epoch 14/200\n",
      "72/72 [==============================] - 10s 145ms/step - loss: 2.0765 - accuracy: 0.2756 - val_loss: 1.9726 - val_accuracy: 0.2969\n",
      "Epoch 15/200\n",
      "72/72 [==============================] - 9s 127ms/step - loss: 2.0626 - accuracy: 0.2739 - val_loss: 1.9212 - val_accuracy: 0.3073\n",
      "Epoch 16/200\n",
      "72/72 [==============================] - 9s 127ms/step - loss: 2.0372 - accuracy: 0.2743 - val_loss: 1.9308 - val_accuracy: 0.3177\n",
      "Epoch 17/200\n",
      "72/72 [==============================] - 10s 135ms/step - loss: 2.0058 - accuracy: 0.2752 - val_loss: 1.8838 - val_accuracy: 0.3247\n",
      "Epoch 18/200\n",
      "72/72 [==============================] - 9s 129ms/step - loss: 2.0024 - accuracy: 0.2856 - val_loss: 1.9174 - val_accuracy: 0.3038\n",
      "Epoch 19/200\n",
      "72/72 [==============================] - 9s 122ms/step - loss: 1.9955 - accuracy: 0.2873 - val_loss: 1.8628 - val_accuracy: 0.3559\n",
      "Epoch 20/200\n",
      "72/72 [==============================] - 10s 140ms/step - loss: 1.9665 - accuracy: 0.3012 - val_loss: 1.8740 - val_accuracy: 0.3160\n",
      "Epoch 21/200\n",
      "72/72 [==============================] - 9s 125ms/step - loss: 1.9665 - accuracy: 0.2969 - val_loss: 1.8734 - val_accuracy: 0.3212\n",
      "Epoch 22/200\n",
      "72/72 [==============================] - 10s 144ms/step - loss: 1.9173 - accuracy: 0.2986 - val_loss: 1.8044 - val_accuracy: 0.3385\n",
      "Epoch 23/200\n",
      "72/72 [==============================] - 12s 169ms/step - loss: 1.9031 - accuracy: 0.3043 - val_loss: 1.8492 - val_accuracy: 0.3403\n",
      "Epoch 24/200\n",
      "72/72 [==============================] - 10s 137ms/step - loss: 1.9351 - accuracy: 0.3099 - val_loss: 1.8412 - val_accuracy: 0.3490\n",
      "Epoch 25/200\n",
      "72/72 [==============================] - 9s 127ms/step - loss: 1.8701 - accuracy: 0.3286 - val_loss: 1.7716 - val_accuracy: 0.3438\n",
      "Epoch 26/200\n",
      "72/72 [==============================] - 9s 129ms/step - loss: 1.8636 - accuracy: 0.3234 - val_loss: 1.7383 - val_accuracy: 0.3733\n",
      "Epoch 27/200\n",
      "72/72 [==============================] - 9s 132ms/step - loss: 1.8266 - accuracy: 0.3390 - val_loss: 1.7201 - val_accuracy: 0.3490\n",
      "Epoch 28/200\n",
      "72/72 [==============================] - 9s 130ms/step - loss: 1.8028 - accuracy: 0.3385 - val_loss: 1.7167 - val_accuracy: 0.3663\n",
      "Epoch 29/200\n",
      "72/72 [==============================] - 9s 126ms/step - loss: 1.7772 - accuracy: 0.3364 - val_loss: 1.7104 - val_accuracy: 0.3542\n",
      "Epoch 30/200\n",
      "72/72 [==============================] - 8s 113ms/step - loss: 1.7924 - accuracy: 0.3398 - val_loss: 1.6975 - val_accuracy: 0.3611\n",
      "Epoch 31/200\n",
      "72/72 [==============================] - 8s 109ms/step - loss: 1.7716 - accuracy: 0.3559 - val_loss: 1.6826 - val_accuracy: 0.3837\n",
      "Epoch 32/200\n",
      "72/72 [==============================] - 12s 164ms/step - loss: 1.7276 - accuracy: 0.3516 - val_loss: 1.8006 - val_accuracy: 0.3299\n",
      "Epoch 33/200\n",
      "72/72 [==============================] - 9s 130ms/step - loss: 1.7734 - accuracy: 0.3672 - val_loss: 1.7225 - val_accuracy: 0.3889\n",
      "Epoch 34/200\n",
      "72/72 [==============================] - 9s 122ms/step - loss: 1.7448 - accuracy: 0.3655 - val_loss: 1.8060 - val_accuracy: 0.3576\n",
      "Epoch 35/200\n",
      "72/72 [==============================] - 9s 119ms/step - loss: 1.7559 - accuracy: 0.3555 - val_loss: 1.7142 - val_accuracy: 0.3646\n",
      "Epoch 36/200\n",
      "72/72 [==============================] - 9s 118ms/step - loss: 1.6932 - accuracy: 0.3832 - val_loss: 1.6553 - val_accuracy: 0.3924\n",
      "Epoch 37/200\n",
      "72/72 [==============================] - 9s 123ms/step - loss: 1.6896 - accuracy: 0.3902 - val_loss: 1.6667 - val_accuracy: 0.3490\n",
      "Epoch 38/200\n",
      "72/72 [==============================] - 11s 157ms/step - loss: 1.6384 - accuracy: 0.4006 - val_loss: 1.6187 - val_accuracy: 0.4115\n",
      "Epoch 39/200\n",
      "72/72 [==============================] - 13s 187ms/step - loss: 1.6357 - accuracy: 0.3937 - val_loss: 1.5829 - val_accuracy: 0.4149\n",
      "Epoch 40/200\n",
      "72/72 [==============================] - 9s 127ms/step - loss: 1.5923 - accuracy: 0.4158 - val_loss: 1.5868 - val_accuracy: 0.4132\n",
      "Epoch 41/200\n",
      "72/72 [==============================] - 10s 138ms/step - loss: 1.5868 - accuracy: 0.4119 - val_loss: 1.6015 - val_accuracy: 0.4132\n",
      "Epoch 42/200\n",
      "72/72 [==============================] - 9s 122ms/step - loss: 1.5591 - accuracy: 0.4240 - val_loss: 1.6113 - val_accuracy: 0.4010\n",
      "Epoch 43/200\n",
      "72/72 [==============================] - 9s 124ms/step - loss: 1.5571 - accuracy: 0.4336 - val_loss: 1.4923 - val_accuracy: 0.4358\n",
      "Epoch 44/200\n",
      "72/72 [==============================] - 9s 123ms/step - loss: 1.5823 - accuracy: 0.4275 - val_loss: 1.5164 - val_accuracy: 0.4288\n",
      "Epoch 45/200\n",
      "72/72 [==============================] - 9s 122ms/step - loss: 1.5426 - accuracy: 0.4384 - val_loss: 1.5694 - val_accuracy: 0.4149\n",
      "Epoch 46/200\n",
      "72/72 [==============================] - 14s 196ms/step - loss: 1.5838 - accuracy: 0.4336 - val_loss: 1.4974 - val_accuracy: 0.4392\n",
      "Epoch 47/200\n",
      "72/72 [==============================] - 15s 205ms/step - loss: 1.4907 - accuracy: 0.4466 - val_loss: 1.4738 - val_accuracy: 0.4375\n",
      "Epoch 48/200\n",
      "72/72 [==============================] - 12s 168ms/step - loss: 1.4345 - accuracy: 0.4714 - val_loss: 1.5690 - val_accuracy: 0.4184\n",
      "Epoch 49/200\n",
      "72/72 [==============================] - 20s 267ms/step - loss: 1.5317 - accuracy: 0.4414 - val_loss: 1.4523 - val_accuracy: 0.4653\n",
      "Epoch 50/200\n",
      "72/72 [==============================] - 13s 181ms/step - loss: 1.4924 - accuracy: 0.4648 - val_loss: 1.4338 - val_accuracy: 0.4566\n",
      "Epoch 51/200\n",
      "72/72 [==============================] - 14s 192ms/step - loss: 1.4142 - accuracy: 0.4831 - val_loss: 1.5846 - val_accuracy: 0.4479\n",
      "Epoch 52/200\n",
      "72/72 [==============================] - 18s 247ms/step - loss: 1.3895 - accuracy: 0.4831 - val_loss: 1.4796 - val_accuracy: 0.4722\n",
      "Epoch 53/200\n",
      "72/72 [==============================] - 15s 215ms/step - loss: 1.4249 - accuracy: 0.4887 - val_loss: 1.3883 - val_accuracy: 0.4844\n",
      "Epoch 54/200\n",
      "72/72 [==============================] - 31s 438ms/step - loss: 1.3876 - accuracy: 0.4883 - val_loss: 1.4347 - val_accuracy: 0.4479\n",
      "Epoch 55/200\n",
      "72/72 [==============================] - 17s 243ms/step - loss: 1.3879 - accuracy: 0.4961 - val_loss: 1.3799 - val_accuracy: 0.4913\n",
      "Epoch 56/200\n",
      "72/72 [==============================] - 11s 157ms/step - loss: 1.3316 - accuracy: 0.5221 - val_loss: 1.3723 - val_accuracy: 0.4948\n",
      "Epoch 57/200\n",
      "72/72 [==============================] - 11s 151ms/step - loss: 1.2895 - accuracy: 0.5239 - val_loss: 1.3646 - val_accuracy: 0.4826\n"
     ]
    },
    {
     "name": "stdout",
     "output_type": "stream",
     "text": [
      "Epoch 58/200\n",
      "72/72 [==============================] - 12s 174ms/step - loss: 1.2830 - accuracy: 0.5434 - val_loss: 1.3211 - val_accuracy: 0.5017\n",
      "Epoch 59/200\n",
      "72/72 [==============================] - 15s 204ms/step - loss: 1.2680 - accuracy: 0.5321 - val_loss: 1.3000 - val_accuracy: 0.5330\n",
      "Epoch 60/200\n",
      "72/72 [==============================] - 17s 232ms/step - loss: 1.2093 - accuracy: 0.5742 - val_loss: 1.3498 - val_accuracy: 0.5017\n",
      "Epoch 61/200\n",
      "72/72 [==============================] - 21s 288ms/step - loss: 1.2063 - accuracy: 0.5621 - val_loss: 1.3968 - val_accuracy: 0.4965\n",
      "Epoch 62/200\n",
      "72/72 [==============================] - 13s 180ms/step - loss: 1.2984 - accuracy: 0.5273 - val_loss: 1.3220 - val_accuracy: 0.5122\n",
      "Epoch 63/200\n",
      "72/72 [==============================] - 12s 173ms/step - loss: 1.1997 - accuracy: 0.5616 - val_loss: 1.2610 - val_accuracy: 0.5278\n",
      "Epoch 64/200\n",
      "72/72 [==============================] - 11s 156ms/step - loss: 1.1286 - accuracy: 0.5833 - val_loss: 1.2656 - val_accuracy: 0.5503\n",
      "Epoch 65/200\n",
      "72/72 [==============================] - 10s 140ms/step - loss: 1.1346 - accuracy: 0.5820 - val_loss: 1.3592 - val_accuracy: 0.5191\n",
      "Epoch 66/200\n",
      "72/72 [==============================] - 9s 128ms/step - loss: 1.1607 - accuracy: 0.5838 - val_loss: 1.3488 - val_accuracy: 0.5208\n",
      "Epoch 67/200\n",
      "72/72 [==============================] - 9s 122ms/step - loss: 1.2148 - accuracy: 0.5608 - val_loss: 1.3067 - val_accuracy: 0.5191\n",
      "Epoch 68/200\n",
      "72/72 [==============================] - 9s 119ms/step - loss: 1.1290 - accuracy: 0.5907 - val_loss: 1.4003 - val_accuracy: 0.5052\n",
      "Epoch 69/200\n",
      "72/72 [==============================] - 9s 121ms/step - loss: 1.1017 - accuracy: 0.5985 - val_loss: 1.3402 - val_accuracy: 0.5434\n",
      "Epoch 70/200\n",
      "72/72 [==============================] - 9s 123ms/step - loss: 1.0526 - accuracy: 0.6181 - val_loss: 1.2950 - val_accuracy: 0.5347\n",
      "Epoch 71/200\n",
      "72/72 [==============================] - 10s 142ms/step - loss: 1.0029 - accuracy: 0.6293 - val_loss: 1.2528 - val_accuracy: 0.5469\n",
      "Epoch 72/200\n",
      "72/72 [==============================] - 10s 133ms/step - loss: 1.0193 - accuracy: 0.6289 - val_loss: 1.2356 - val_accuracy: 0.5712\n",
      "Epoch 73/200\n",
      "72/72 [==============================] - 8s 118ms/step - loss: 1.0194 - accuracy: 0.6276 - val_loss: 1.2990 - val_accuracy: 0.5677\n",
      "Epoch 74/200\n",
      "72/72 [==============================] - 8s 118ms/step - loss: 1.0311 - accuracy: 0.6263 - val_loss: 1.2585 - val_accuracy: 0.5781\n",
      "Epoch 75/200\n",
      "72/72 [==============================] - 9s 119ms/step - loss: 0.9225 - accuracy: 0.6602 - val_loss: 1.2154 - val_accuracy: 0.5816\n",
      "Epoch 76/200\n",
      "72/72 [==============================] - 9s 119ms/step - loss: 0.9016 - accuracy: 0.6714 - val_loss: 1.2030 - val_accuracy: 0.6163\n",
      "Epoch 77/200\n",
      "72/72 [==============================] - 10s 142ms/step - loss: 0.9209 - accuracy: 0.6719 - val_loss: 1.2388 - val_accuracy: 0.5868\n",
      "Epoch 78/200\n",
      "72/72 [==============================] - 10s 137ms/step - loss: 0.9443 - accuracy: 0.6558 - val_loss: 1.3462 - val_accuracy: 0.5781\n",
      "Epoch 79/200\n",
      "72/72 [==============================] - 9s 122ms/step - loss: 0.8919 - accuracy: 0.6723 - val_loss: 1.1836 - val_accuracy: 0.6389\n",
      "Epoch 80/200\n",
      "72/72 [==============================] - 10s 145ms/step - loss: 0.9167 - accuracy: 0.6619 - val_loss: 1.2883 - val_accuracy: 0.5868\n",
      "Epoch 81/200\n",
      "72/72 [==============================] - 9s 123ms/step - loss: 0.8911 - accuracy: 0.6758 - val_loss: 1.2364 - val_accuracy: 0.6059\n",
      "Epoch 82/200\n",
      "72/72 [==============================] - 8s 117ms/step - loss: 0.8671 - accuracy: 0.6897 - val_loss: 1.1721 - val_accuracy: 0.6319\n",
      "Epoch 83/200\n",
      "72/72 [==============================] - 9s 122ms/step - loss: 0.8347 - accuracy: 0.7018 - val_loss: 1.3255 - val_accuracy: 0.5694\n",
      "Epoch 84/200\n",
      "72/72 [==============================] - 8s 115ms/step - loss: 0.9280 - accuracy: 0.6827 - val_loss: 1.2754 - val_accuracy: 0.6007\n",
      "Epoch 85/200\n",
      "72/72 [==============================] - 8s 109ms/step - loss: 0.8762 - accuracy: 0.6862 - val_loss: 1.1448 - val_accuracy: 0.6319\n",
      "Epoch 86/200\n",
      "72/72 [==============================] - 7s 104ms/step - loss: 0.7838 - accuracy: 0.7166 - val_loss: 1.0969 - val_accuracy: 0.6424\n",
      "Epoch 87/200\n",
      "72/72 [==============================] - 8s 104ms/step - loss: 0.7504 - accuracy: 0.7218 - val_loss: 1.1654 - val_accuracy: 0.6389\n",
      "Epoch 88/200\n",
      "72/72 [==============================] - 8s 104ms/step - loss: 0.7569 - accuracy: 0.7287 - val_loss: 1.1111 - val_accuracy: 0.6424\n",
      "Epoch 89/200\n",
      "72/72 [==============================] - 8s 105ms/step - loss: 0.7286 - accuracy: 0.7396 - val_loss: 1.1689 - val_accuracy: 0.6250\n",
      "Epoch 90/200\n",
      "72/72 [==============================] - 8s 106ms/step - loss: 0.8332 - accuracy: 0.7157 - val_loss: 1.1426 - val_accuracy: 0.6476\n",
      "Epoch 91/200\n",
      "72/72 [==============================] - 8s 113ms/step - loss: 0.7373 - accuracy: 0.7326 - val_loss: 1.0476 - val_accuracy: 0.6424\n",
      "Epoch 92/200\n",
      "72/72 [==============================] - 8s 112ms/step - loss: 0.7064 - accuracy: 0.7439 - val_loss: 1.1662 - val_accuracy: 0.6580\n",
      "Epoch 93/200\n",
      "72/72 [==============================] - 8s 107ms/step - loss: 0.7236 - accuracy: 0.7318 - val_loss: 1.2974 - val_accuracy: 0.6285\n",
      "Epoch 94/200\n",
      "72/72 [==============================] - 7s 104ms/step - loss: 0.8399 - accuracy: 0.7196 - val_loss: 1.2363 - val_accuracy: 0.6198\n",
      "Epoch 95/200\n",
      "72/72 [==============================] - 8s 107ms/step - loss: 0.7330 - accuracy: 0.7409 - val_loss: 1.1303 - val_accuracy: 0.6615\n",
      "Epoch 96/200\n",
      "72/72 [==============================] - 8s 105ms/step - loss: 0.8037 - accuracy: 0.7257 - val_loss: 1.2004 - val_accuracy: 0.6111\n",
      "Epoch 97/200\n",
      "72/72 [==============================] - 8s 111ms/step - loss: 0.7177 - accuracy: 0.7431 - val_loss: 1.1420 - val_accuracy: 0.6458\n",
      "Epoch 98/200\n",
      "72/72 [==============================] - 8s 106ms/step - loss: 0.6834 - accuracy: 0.7669 - val_loss: 1.1310 - val_accuracy: 0.6458\n",
      "Epoch 99/200\n",
      "72/72 [==============================] - 8s 113ms/step - loss: 0.6687 - accuracy: 0.7630 - val_loss: 1.0853 - val_accuracy: 0.7031\n",
      "Epoch 100/200\n",
      "72/72 [==============================] - 13s 184ms/step - loss: 0.6121 - accuracy: 0.7682 - val_loss: 1.2058 - val_accuracy: 0.6580\n",
      "Epoch 101/200\n",
      "72/72 [==============================] - 9s 132ms/step - loss: 0.6571 - accuracy: 0.7726 - val_loss: 1.1958 - val_accuracy: 0.6927\n",
      "Epoch 102/200\n",
      "72/72 [==============================] - 12s 169ms/step - loss: 0.6635 - accuracy: 0.7643 - val_loss: 1.0586 - val_accuracy: 0.6892\n",
      "Epoch 103/200\n",
      "72/72 [==============================] - 8s 106ms/step - loss: 0.6124 - accuracy: 0.7930 - val_loss: 1.1128 - val_accuracy: 0.7031\n",
      "Epoch 104/200\n",
      "72/72 [==============================] - 9s 126ms/step - loss: 0.6412 - accuracy: 0.7843 - val_loss: 1.0306 - val_accuracy: 0.6771\n",
      "Epoch 105/200\n",
      "72/72 [==============================] - 9s 120ms/step - loss: 0.5637 - accuracy: 0.7860 - val_loss: 1.0175 - val_accuracy: 0.7465\n",
      "Epoch 106/200\n",
      "72/72 [==============================] - 8s 111ms/step - loss: 0.6000 - accuracy: 0.7947 - val_loss: 1.1281 - val_accuracy: 0.6997\n",
      "Epoch 107/200\n",
      "72/72 [==============================] - 11s 151ms/step - loss: 0.6232 - accuracy: 0.7969 - val_loss: 1.1349 - val_accuracy: 0.6979\n",
      "Epoch 108/200\n",
      "72/72 [==============================] - 8s 112ms/step - loss: 0.5893 - accuracy: 0.7921 - val_loss: 1.1442 - val_accuracy: 0.7118\n",
      "Epoch 109/200\n",
      "72/72 [==============================] - 8s 106ms/step - loss: 0.7016 - accuracy: 0.7704 - val_loss: 1.1359 - val_accuracy: 0.6962\n",
      "Epoch 110/200\n",
      "72/72 [==============================] - 7s 104ms/step - loss: 0.5749 - accuracy: 0.7886 - val_loss: 0.9922 - val_accuracy: 0.7170\n",
      "Epoch 111/200\n",
      "72/72 [==============================] - 8s 109ms/step - loss: 0.4941 - accuracy: 0.8190 - val_loss: 1.0663 - val_accuracy: 0.7413\n",
      "Epoch 112/200\n",
      "72/72 [==============================] - 11s 157ms/step - loss: 0.8179 - accuracy: 0.7613 - val_loss: 1.3942 - val_accuracy: 0.6163\n",
      "Epoch 113/200\n",
      "72/72 [==============================] - 12s 165ms/step - loss: 0.8455 - accuracy: 0.7274 - val_loss: 1.1523 - val_accuracy: 0.6997\n",
      "Epoch 114/200\n",
      "72/72 [==============================] - 13s 182ms/step - loss: 0.5665 - accuracy: 0.8038 - val_loss: 0.9858 - val_accuracy: 0.7604\n",
      "Epoch 115/200\n",
      "72/72 [==============================] - 10s 145ms/step - loss: 0.4803 - accuracy: 0.8416 - val_loss: 1.0603 - val_accuracy: 0.7309\n",
      "Epoch 116/200\n",
      "72/72 [==============================] - 8s 113ms/step - loss: 0.4932 - accuracy: 0.8264 - val_loss: 0.9784 - val_accuracy: 0.7517\n",
      "Epoch 117/200\n",
      "72/72 [==============================] - 8s 107ms/step - loss: 0.4480 - accuracy: 0.8433 - val_loss: 1.1203 - val_accuracy: 0.7292\n",
      "Epoch 118/200\n",
      "72/72 [==============================] - 7s 103ms/step - loss: 0.4444 - accuracy: 0.8481 - val_loss: 1.0820 - val_accuracy: 0.7708\n",
      "Epoch 119/200\n",
      "72/72 [==============================] - 7s 94ms/step - loss: 0.4022 - accuracy: 0.8607 - val_loss: 0.9567 - val_accuracy: 0.7917\n",
      "Epoch 120/200\n",
      "72/72 [==============================] - 8s 109ms/step - loss: 0.3800 - accuracy: 0.8707 - val_loss: 1.1436 - val_accuracy: 0.7674\n",
      "Epoch 137/200\n",
      "72/72 [==============================] - 12s 174ms/step - loss: 0.6375 - accuracy: 0.8103 - val_loss: 1.2163 - val_accuracy: 0.7344\n",
      "Epoch 138/200\n",
      "72/72 [==============================] - 12s 164ms/step - loss: 0.5496 - accuracy: 0.8316 - val_loss: 1.0697 - val_accuracy: 0.7483\n",
      "Epoch 139/200\n",
      "72/72 [==============================] - 9s 122ms/step - loss: 0.4110 - accuracy: 0.8655 - val_loss: 1.0328 - val_accuracy: 0.7969\n",
      "Epoch 140/200\n",
      "72/72 [==============================] - 9s 120ms/step - loss: 0.3557 - accuracy: 0.8811 - val_loss: 1.0544 - val_accuracy: 0.8177\n",
      "Epoch 141/200\n",
      "72/72 [==============================] - 7s 95ms/step - loss: 0.3844 - accuracy: 0.8689 - val_loss: 1.1139 - val_accuracy: 0.8038\n",
      "Epoch 142/200\n",
      "72/72 [==============================] - 8s 106ms/step - loss: 0.3177 - accuracy: 0.8928 - val_loss: 1.0828 - val_accuracy: 0.8177\n",
      "Epoch 143/200\n",
      "72/72 [==============================] - 7s 98ms/step - loss: 0.2882 - accuracy: 0.9049 - val_loss: 1.0428 - val_accuracy: 0.8299\n",
      "Epoch 144/200\n",
      "72/72 [==============================] - 8s 107ms/step - loss: 0.3266 - accuracy: 0.8893 - val_loss: 0.9186 - val_accuracy: 0.8194\n",
      "Epoch 145/200\n",
      "72/72 [==============================] - 11s 150ms/step - loss: 0.5859 - accuracy: 0.8372 - val_loss: 1.3817 - val_accuracy: 0.7153\n",
      "Epoch 146/200\n",
      "72/72 [==============================] - 8s 111ms/step - loss: 0.6284 - accuracy: 0.8047 - val_loss: 1.0424 - val_accuracy: 0.7674\n",
      "Epoch 147/200\n",
      "72/72 [==============================] - 8s 109ms/step - loss: 0.3890 - accuracy: 0.8741 - val_loss: 1.2210 - val_accuracy: 0.8090\n",
      "Epoch 148/200\n",
      "72/72 [==============================] - 8s 110ms/step - loss: 0.4214 - accuracy: 0.8637 - val_loss: 1.2592 - val_accuracy: 0.7691\n",
      "Epoch 149/200\n",
      "72/72 [==============================] - 9s 122ms/step - loss: 0.4342 - accuracy: 0.8615 - val_loss: 1.0798 - val_accuracy: 0.7812\n",
      "Epoch 150/200\n",
      "72/72 [==============================] - 15s 215ms/step - loss: 0.3183 - accuracy: 0.8958 - val_loss: 0.9530 - val_accuracy: 0.8333\n",
      "Epoch 151/200\n",
      "72/72 [==============================] - 12s 161ms/step - loss: 0.2789 - accuracy: 0.9097 - val_loss: 1.0266 - val_accuracy: 0.8021\n",
      "Epoch 152/200\n",
      "72/72 [==============================] - 17s 243ms/step - loss: 0.2767 - accuracy: 0.9119 - val_loss: 1.0562 - val_accuracy: 0.8316\n",
      "Epoch 153/200\n",
      "72/72 [==============================] - 12s 162ms/step - loss: 0.3855 - accuracy: 0.8837 - val_loss: 1.4366 - val_accuracy: 0.7552\n",
      "Epoch 154/200\n",
      "72/72 [==============================] - 10s 140ms/step - loss: 0.4920 - accuracy: 0.8511 - val_loss: 1.1713 - val_accuracy: 0.7795\n",
      "Epoch 155/200\n",
      "72/72 [==============================] - 12s 161ms/step - loss: 0.4432 - accuracy: 0.8641 - val_loss: 0.9798 - val_accuracy: 0.8160\n",
      "Epoch 156/200\n",
      "72/72 [==============================] - 10s 137ms/step - loss: 0.3445 - accuracy: 0.8928 - val_loss: 1.0170 - val_accuracy: 0.7969\n",
      "Epoch 157/200\n",
      "72/72 [==============================] - 11s 147ms/step - loss: 0.3722 - accuracy: 0.8776 - val_loss: 0.9923 - val_accuracy: 0.8073\n",
      "Epoch 158/200\n",
      "72/72 [==============================] - 9s 130ms/step - loss: 0.2465 - accuracy: 0.9206 - val_loss: 1.0915 - val_accuracy: 0.8299\n",
      "Epoch 159/200\n",
      "72/72 [==============================] - 10s 140ms/step - loss: 0.2317 - accuracy: 0.9210 - val_loss: 1.0283 - val_accuracy: 0.8542\n",
      "Epoch 160/200\n",
      "72/72 [==============================] - 9s 119ms/step - loss: 0.2192 - accuracy: 0.9253 - val_loss: 1.1594 - val_accuracy: 0.7899\n",
      "Epoch 161/200\n",
      "72/72 [==============================] - 7s 96ms/step - loss: 0.3063 - accuracy: 0.9119 - val_loss: 1.2319 - val_accuracy: 0.8160\n",
      "Epoch 162/200\n",
      "72/72 [==============================] - 7s 99ms/step - loss: 0.4320 - accuracy: 0.8763 - val_loss: 1.1606 - val_accuracy: 0.8125\n",
      "Epoch 175/200\n",
      "72/72 [==============================] - 8s 117ms/step - loss: 0.2719 - accuracy: 0.9236 - val_loss: 1.2654 - val_accuracy: 0.7899\n",
      "Epoch 176/200\n",
      "72/72 [==============================] - 10s 136ms/step - loss: 0.2937 - accuracy: 0.9076 - val_loss: 1.0390 - val_accuracy: 0.8420\n",
      "Epoch 177/200\n",
      "72/72 [==============================] - 9s 123ms/step - loss: 0.2042 - accuracy: 0.9392 - val_loss: 1.0427 - val_accuracy: 0.8403\n",
      "Epoch 178/200\n",
      "72/72 [==============================] - 15s 210ms/step - loss: 0.1767 - accuracy: 0.9505 - val_loss: 1.0871 - val_accuracy: 0.8663\n",
      "Epoch 179/200\n",
      "72/72 [==============================] - 12s 168ms/step - loss: 0.2859 - accuracy: 0.9188 - val_loss: 1.2218 - val_accuracy: 0.8160\n",
      "Epoch 180/200\n",
      "72/72 [==============================] - 11s 152ms/step - loss: 0.2825 - accuracy: 0.9193 - val_loss: 1.1018 - val_accuracy: 0.8090\n",
      "Epoch 181/200\n",
      "72/72 [==============================] - 8s 117ms/step - loss: 0.2565 - accuracy: 0.9184 - val_loss: 1.1386 - val_accuracy: 0.8351\n",
      "Epoch 182/200\n",
      "72/72 [==============================] - 7s 96ms/step - loss: 0.4307 - accuracy: 0.9036 - val_loss: 1.2533 - val_accuracy: 0.7569\n",
      "Epoch 183/200\n",
      "72/72 [==============================] - 8s 111ms/step - loss: 0.4628 - accuracy: 0.8694 - val_loss: 1.0947 - val_accuracy: 0.7969\n",
      "Epoch 184/200\n",
      "72/72 [==============================] - 8s 112ms/step - loss: 0.3572 - accuracy: 0.8880 - val_loss: 1.0275 - val_accuracy: 0.8333\n",
      "Epoch 185/200\n",
      "72/72 [==============================] - 12s 165ms/step - loss: 0.3304 - accuracy: 0.9076 - val_loss: 1.0924 - val_accuracy: 0.8385\n",
      "Epoch 186/200\n",
      "72/72 [==============================] - 8s 106ms/step - loss: 0.3517 - accuracy: 0.8984 - val_loss: 0.9996 - val_accuracy: 0.8576\n",
      "Epoch 187/200\n",
      "72/72 [==============================] - 12s 171ms/step - loss: 0.2217 - accuracy: 0.9366 - val_loss: 0.9689 - val_accuracy: 0.8715\n",
      "Epoch 188/200\n",
      "72/72 [==============================] - 9s 130ms/step - loss: 0.1706 - accuracy: 0.9436 - val_loss: 0.9648 - val_accuracy: 0.8785\n",
      "Epoch 189/200\n",
      "72/72 [==============================] - 10s 144ms/step - loss: 0.1557 - accuracy: 0.9553 - val_loss: 0.9204 - val_accuracy: 0.8837\n",
      "Epoch 190/200\n",
      "72/72 [==============================] - 9s 125ms/step - loss: 0.1485 - accuracy: 0.9601 - val_loss: 1.0817 - val_accuracy: 0.8715\n",
      "Epoch 191/200\n",
      "72/72 [==============================] - 8s 114ms/step - loss: 0.1552 - accuracy: 0.9505 - val_loss: 1.1472 - val_accuracy: 0.8576\n",
      "Epoch 192/200\n",
      "72/72 [==============================] - 7s 93ms/step - loss: 0.2611 - accuracy: 0.9297 - val_loss: 1.1892 - val_accuracy: 0.8316\n",
      "Epoch 193/200\n",
      "72/72 [==============================] - 8s 108ms/step - loss: 0.3431 - accuracy: 0.9136 - val_loss: 1.6329 - val_accuracy: 0.7865\n",
      "Epoch 194/200\n",
      "72/72 [==============================] - 7s 97ms/step - loss: 0.6883 - accuracy: 0.8303 - val_loss: 1.0680 - val_accuracy: 0.7951\n",
      "Epoch 195/200\n",
      "72/72 [==============================] - 7s 93ms/step - loss: 0.4318 - accuracy: 0.8715 - val_loss: 0.9161 - val_accuracy: 0.8420\n",
      "Epoch 196/200\n",
      "72/72 [==============================] - 9s 122ms/step - loss: 0.2707 - accuracy: 0.9245 - val_loss: 0.8938 - val_accuracy: 0.8524\n",
      "Epoch 197/200\n",
      "72/72 [==============================] - 10s 144ms/step - loss: 0.1849 - accuracy: 0.9423 - val_loss: 0.9397 - val_accuracy: 0.8802\n",
      "Epoch 198/200\n"
     ]
    },
    {
     "name": "stdout",
     "output_type": "stream",
     "text": [
      "72/72 [==============================] - 10s 137ms/step - loss: 0.1566 - accuracy: 0.9505 - val_loss: 1.0612 - val_accuracy: 0.8576\n",
      "Epoch 199/200\n",
      "72/72 [==============================] - 8s 115ms/step - loss: 0.1905 - accuracy: 0.9440 - val_loss: 1.0152 - val_accuracy: 0.8681\n",
      "Epoch 200/200\n",
      "72/72 [==============================] - 14s 193ms/step - loss: 0.2667 - accuracy: 0.9214 - val_loss: 1.0844 - val_accuracy: 0.8177\n"
     ]
    }
   ],
   "source": [
    "trace = LSTM_model.fit(x_train,y_train, validation_data=(x_test,y_test), epochs=200, shuffle=True)"
   ]
  },
  {
   "cell_type": "markdown",
   "id": "ecc4f135",
   "metadata": {},
   "source": [
    "##### EVALUATION:"
   ]
  },
  {
   "cell_type": "code",
   "execution_count": 95,
   "id": "b221f241",
   "metadata": {},
   "outputs": [
    {
     "data": {
      "text/plain": [
       "<matplotlib.legend.Legend at 0x121409979a0>"
      ]
     },
     "execution_count": 95,
     "metadata": {},
     "output_type": "execute_result"
    },
    {
     "data": {
      "image/png": "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\n",
      "text/plain": [
       "<Figure size 432x288 with 1 Axes>"
      ]
     },
     "metadata": {
      "needs_background": "light"
     },
     "output_type": "display_data"
    }
   ],
   "source": [
    "plt.plot(trace.history['accuracy'], label='Train Accuracy')\n",
    "plt.plot(trace.history['val_accuracy'], label='Validation Accuracy')\n",
    "plt.xlabel('Epochs')\n",
    "plt.ylabel('Accuracy')\n",
    "plt.legend()"
   ]
  },
  {
   "cell_type": "code",
   "execution_count": 96,
   "id": "72fe2603",
   "metadata": {},
   "outputs": [],
   "source": [
    "# predicting unseen data\n",
    "y_pred = LSTM_model.predict(x_test)\n",
    "y_pred = np.argmax(y_pred,axis=1)"
   ]
  },
  {
   "cell_type": "code",
   "execution_count": 100,
   "id": "51b062ca",
   "metadata": {},
   "outputs": [],
   "source": [
    "# actual values\n",
    "y_true = np.argmax(y_test,axis=1)"
   ]
  },
  {
   "cell_type": "markdown",
   "id": "b4a2eaa6",
   "metadata": {},
   "source": [
    "##### CONFUSION MATRIX:"
   ]
  },
  {
   "cell_type": "code",
   "execution_count": 102,
   "id": "2f3ae6a8",
   "metadata": {},
   "outputs": [],
   "source": [
    "#Defining function for confusion matrix plot\n",
    "def plot_confusion_matrix(y_true, y_pred, classes,\n",
    "                          normalize=False,\n",
    "                          title=None,\n",
    "                          cmap=plt.cm.Blues):\n",
    "\n",
    "    if not title:\n",
    "        if normalize:\n",
    "            title = 'Normalized confusion matrix'\n",
    "        else:\n",
    "            title = 'Confusion matrix, without normalization'\n",
    "\n",
    "    #Compute confusion matrix\n",
    "    cm = confusion_matrix(y_true, y_pred)\n",
    "    if normalize:\n",
    "        cm = cm.astype('float') / cm.sum(axis=1)[:, np.newaxis]\n",
    "        print(\"Normalized confusion matrix\")\n",
    "    else:\n",
    "        print('Confusion matrix, without normalization')\n",
    "\n",
    "#print(cm)\n",
    "\n",
    "    fig, ax = plt.subplots(figsize=(10,10))\n",
    "    im = ax.imshow(cm, interpolation='nearest', cmap=cmap)\n",
    "    ax.figure.colorbar(im, ax=ax)\n",
    "    # We want to show all ticks...\n",
    "    ax.set(xticks=np.arange(cm.shape[1]),\n",
    "           yticks=np.arange(cm.shape[0]),\n",
    "           # ... and label them with the respective list entries\n",
    "           xticklabels=classes, yticklabels=classes,\n",
    "           title=title,\n",
    "           ylabel='True label',\n",
    "           xlabel='Predicted label')\n",
    "\n",
    "\n",
    "    #Rotate the tick labels and set their alignment.\n",
    "    plt.setp(ax.get_xticklabels(), rotation=45, ha=\"right\",\n",
    "             rotation_mode=\"anchor\")\n",
    "    # Loop over data dimensions and create text annotations.\n",
    "    fmt = '.2f' if normalize else 'd'\n",
    "    thresh = cm.max() / 2.\n",
    "    for i in range(cm.shape[0]):\n",
    "        for j in range(cm.shape[1]):\n",
    "            ax.text(j, i, format(cm[i, j], fmt),\n",
    "                    ha=\"center\", va=\"center\",\n",
    "                    color=\"white\" if cm[i, j] > thresh else \"black\")\n",
    "    fig.tight_layout()\n",
    "    return ax"
   ]
  },
  {
   "cell_type": "code",
   "execution_count": 105,
   "id": "d665a8d8",
   "metadata": {},
   "outputs": [
    {
     "name": "stdout",
     "output_type": "stream",
     "text": [
      "Normalized confusion matrix\n"
     ]
    },
    {
     "data": {
      "image/png": "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\n",
      "text/plain": [
       "<Figure size 720x720 with 2 Axes>"
      ]
     },
     "metadata": {
      "needs_background": "light"
     },
     "output_type": "display_data"
    }
   ],
   "source": [
    "#Defining the class labels\n",
    "class_names = lb.classes_\n",
    "\n",
    "# Plotting normalized confusion matrix\n",
    "confusion_matrix_test = plot_confusion_matrix(y_true, y_pred, classes = class_names, title='normalized confusion matrix',\n",
    "                                              normalize=True)"
   ]
  },
  {
   "cell_type": "markdown",
   "id": "fa62a4e9",
   "metadata": {},
   "source": [
    "###### F1 SCORE:"
   ]
  },
  {
   "cell_type": "code",
   "execution_count": 106,
   "id": "3b09b133",
   "metadata": {},
   "outputs": [],
   "source": [
    "def F1_Score(y_true, y_pred,class_names):\n",
    "  test_keys = class_names.tolist()\n",
    "  test_values = f1_score(y_true, y_pred,average=None).tolist()\n",
    "  res = {'labels' :test_keys, 'F1_score' : test_values}\n",
    "  df = pd.DataFrame.from_dict(res)\n",
    "  fig, ax = plt.subplots(figsize = ( 15 , 7 ))\n",
    "  ax = sns.barplot(x=\"labels\", y=\"F1_score\", data=df,palette='gist_earth_r')\n",
    "  plt.setp(ax.get_xticklabels(), rotation=45, ha=\"right\",\n",
    "             rotation_mode=\"anchor\")\n",
    "\n",
    "  ax.axhline(y=df['F1_score'].min(), xmin=0.0, xmax=1.0, color='r',)\n",
    "  ax.set_title( \"F1_score_per_class\" , size = 24 )\n",
    "  return ax"
   ]
  },
  {
   "cell_type": "code",
   "execution_count": 107,
   "id": "535a4e12",
   "metadata": {},
   "outputs": [
    {
     "data": {
      "text/plain": [
       "<AxesSubplot:title={'center':'F1_score_per_class'}, xlabel='labels', ylabel='F1_score'>"
      ]
     },
     "execution_count": 107,
     "metadata": {},
     "output_type": "execute_result"
    },
    {
     "data": {
      "image/png": "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\n",
      "text/plain": [
       "<Figure size 1080x504 with 1 Axes>"
      ]
     },
     "metadata": {
      "needs_background": "light"
     },
     "output_type": "display_data"
    }
   ],
   "source": [
    "F1_Score(y_true, y_pred,class_names)"
   ]
  },
  {
   "cell_type": "markdown",
   "id": "1bc571e4",
   "metadata": {},
   "source": [
    "##### MODEL SERIALISING:"
   ]
  },
  {
   "cell_type": "code",
   "execution_count": 116,
   "id": "a668b319",
   "metadata": {},
   "outputs": [
    {
     "name": "stdout",
     "output_type": "stream",
     "text": [
      "Saved model to disk\n"
     ]
    }
   ],
   "source": [
    "# serialize model to JSON\n",
    "model_json = LSTM_model.to_json()\n",
    "with open(\"LSTM_model.json\", \"w\") as json_file:\n",
    "    json_file.write(model_json)\n",
    "# serialize weights to HDF5\n",
    "LSTM_model.save_weights(\"LSTM_model_weights.h5\")\n",
    "print(\"Saved model to disk\")"
   ]
  },
  {
   "cell_type": "markdown",
   "id": "41fe8350",
   "metadata": {},
   "source": [
    "##### SERIALIZE TRAIN DATA MEAN & VARIANCE TO NORMALIZE INPUT DATA BU USER"
   ]
  },
  {
   "cell_type": "code",
   "execution_count": 15,
   "id": "fb202ca2",
   "metadata": {},
   "outputs": [],
   "source": [
    "import pickle"
   ]
  },
  {
   "cell_type": "code",
   "execution_count": 113,
   "id": "55f90c1e",
   "metadata": {},
   "outputs": [],
   "source": [
    "# Pickel the train_mean object for future use \n",
    "filename = 'train_mean'\n",
    "outfile = open(filename,'wb')\n",
    "pickle.dump(mean,outfile)\n",
    "outfile.close()"
   ]
  },
  {
   "cell_type": "code",
   "execution_count": 115,
   "id": "039a0172",
   "metadata": {},
   "outputs": [],
   "source": [
    "# Pickel the train_mean object for future use \n",
    "filename_ = 'train_var'\n",
    "outfile_ = open(filename_,'wb')\n",
    "pickle.dump(variance,outfile_)\n",
    "outfile_.close()"
   ]
  },
  {
   "cell_type": "markdown",
   "id": "62eef370",
   "metadata": {},
   "source": [
    "##### DONE"
   ]
  },
 
